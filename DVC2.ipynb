{
  "nbformat": 4,
  "nbformat_minor": 0,
  "metadata": {
    "colab": {
      "name": "DVC2.ipynb",
      "provenance": [],
      "authorship_tag": "ABX9TyM9groSXnceWth8NKtbBmOH",
      "include_colab_link": true
    },
    "kernelspec": {
      "name": "python3",
      "display_name": "Python 3"
    },
    "accelerator": "GPU"
  },
  "cells": [
    {
      "cell_type": "markdown",
      "metadata": {
        "id": "view-in-github",
        "colab_type": "text"
      },
      "source": [
        "<a href=\"https://colab.research.google.com/github/Vsanku01/Deep-Learning-Tuts/blob/master/DVC2.ipynb\" target=\"_parent\"><img src=\"https://colab.research.google.com/assets/colab-badge.svg\" alt=\"Open In Colab\"/></a>"
      ]
    },
    {
      "cell_type": "code",
      "metadata": {
        "id": "jubeFbXNU7iy",
        "colab_type": "code",
        "colab": {}
      },
      "source": [
        "!mkdir -p ~/.kaggle\n",
        "!cp kaggle.json ~/.kaggle/\n",
        "\n",
        "!chmod 600 ~/.kaggle/kaggle.json"
      ],
      "execution_count": 0,
      "outputs": []
    },
    {
      "cell_type": "code",
      "metadata": {
        "id": "JW-6nHCGU8T0",
        "colab_type": "code",
        "colab": {
          "base_uri": "https://localhost:8080/",
          "height": 187
        },
        "outputId": "c15d9c47-885d-46c8-b4eb-29ec17fb71c6"
      },
      "source": [
        "!kaggle competitions download -c dogs-vs-cats-redux-kernels-edition"
      ],
      "execution_count": 2,
      "outputs": [
        {
          "output_type": "stream",
          "text": [
            "Warning: Looks like you're using an outdated API Version, please consider updating (server 1.5.6 / client 1.5.4)\n",
            "Downloading sample_submission.csv to /content\n",
            "  0% 0.00/111k [00:00<?, ?B/s]\n",
            "100% 111k/111k [00:00<00:00, 45.5MB/s]\n",
            "Downloading test.zip to /content\n",
            " 98% 265M/271M [00:04<00:00, 78.2MB/s]\n",
            "100% 271M/271M [00:04<00:00, 68.0MB/s]\n",
            "Downloading train.zip to /content\n",
            " 98% 530M/544M [00:10<00:00, 47.8MB/s]\n",
            "100% 544M/544M [00:10<00:00, 55.0MB/s]\n"
          ],
          "name": "stdout"
        }
      ]
    },
    {
      "cell_type": "code",
      "metadata": {
        "id": "TKZD6K9YU_xp",
        "colab_type": "code",
        "colab": {
          "base_uri": "https://localhost:8080/",
          "height": 34
        },
        "outputId": "cd577ee3-5f8c-448f-c702-d2c7708e862f"
      },
      "source": [
        "from zipfile import ZipFile\n",
        "file_name = \"train.zip\"\n",
        "\n",
        "with ZipFile(file_name,'r') as zip:\n",
        "  zip.extractall()\n",
        "  print('Done')"
      ],
      "execution_count": 3,
      "outputs": [
        {
          "output_type": "stream",
          "text": [
            "Done\n"
          ],
          "name": "stdout"
        }
      ]
    },
    {
      "cell_type": "code",
      "metadata": {
        "id": "Ax1Aac20bswS",
        "colab_type": "code",
        "colab": {}
      },
      "source": [
        ""
      ],
      "execution_count": 0,
      "outputs": []
    },
    {
      "cell_type": "code",
      "metadata": {
        "id": "cAe7F0QJVHRe",
        "colab_type": "code",
        "colab": {
          "base_uri": "https://localhost:8080/",
          "height": 34
        },
        "outputId": "5eaa56ae-b12a-495d-d8c4-874cbd9546aa"
      },
      "source": [
        "from zipfile import ZipFile\n",
        "file_name = \"test.zip\"\n",
        "\n",
        "with ZipFile(file_name,'r') as zip:\n",
        "  zip.extractall()\n",
        "  print('Done')"
      ],
      "execution_count": 4,
      "outputs": [
        {
          "output_type": "stream",
          "text": [
            "Done\n"
          ],
          "name": "stdout"
        }
      ]
    },
    {
      "cell_type": "code",
      "metadata": {
        "id": "ObmKDzJ_Vxqs",
        "colab_type": "code",
        "colab": {}
      },
      "source": [
        "TRAIN_DIR = '/content/train'\n",
        "TEST_DIR = '/content/test'"
      ],
      "execution_count": 0,
      "outputs": []
    },
    {
      "cell_type": "code",
      "metadata": {
        "id": "JNHiPRrgVeWZ",
        "colab_type": "code",
        "colab": {}
      },
      "source": [
        "import os\n",
        "import matplotlib.pyplot as plt\n",
        "import pandas as pd\n",
        "import numpy as np\n",
        "import tqdm as tqdm\n",
        "from tensorflow.keras.models import Sequential\n",
        "from tensorflow.keras.layers import Dense,Conv2D,MaxPooling2D,Dropout,BatchNormalization,Flatten\n",
        "from tensorflow.keras.preprocessing.image import ImageDataGenerator\n",
        "from sklearn.model_selection import train_test_split"
      ],
      "execution_count": 0,
      "outputs": []
    },
    {
      "cell_type": "code",
      "metadata": {
        "id": "YZ8ZvX0ZVtRP",
        "colab_type": "code",
        "colab": {
          "base_uri": "https://localhost:8080/",
          "height": 34
        },
        "outputId": "ba05a93e-e5bc-4c16-a7b1-b7cdc312b17a"
      },
      "source": [
        "for img in os.listdir(TRAIN_DIR):\n",
        "  sample_image = img\n",
        "  print(sample_image)\n",
        "  break"
      ],
      "execution_count": 38,
      "outputs": [
        {
          "output_type": "stream",
          "text": [
            "cat.3682.jpg\n"
          ],
          "name": "stdout"
        }
      ]
    },
    {
      "cell_type": "code",
      "metadata": {
        "id": "dUio-eNHV6Jx",
        "colab_type": "code",
        "colab": {
          "base_uri": "https://localhost:8080/",
          "height": 34
        },
        "outputId": "fc5ee290-7d47-4c60-8320-52d38a6f827b"
      },
      "source": [
        "url = '/content/train/'+sample_image\n",
        "print(url)"
      ],
      "execution_count": 39,
      "outputs": [
        {
          "output_type": "stream",
          "text": [
            "/content/train/cat.3682.jpg\n"
          ],
          "name": "stdout"
        }
      ]
    },
    {
      "cell_type": "code",
      "metadata": {
        "id": "ZT4sQbC7WH5r",
        "colab_type": "code",
        "colab": {
          "base_uri": "https://localhost:8080/",
          "height": 286
        },
        "outputId": "ce87c130-9456-4878-8a0a-1e6e78a3ad92"
      },
      "source": [
        "plt.imshow(plt.imread(url))"
      ],
      "execution_count": 31,
      "outputs": [
        {
          "output_type": "execute_result",
          "data": {
            "text/plain": [
              "<matplotlib.image.AxesImage at 0x7f83ada43ef0>"
            ]
          },
          "metadata": {
            "tags": []
          },
          "execution_count": 31
        },
        {
          "output_type": "display_data",
          "data": {
            "image/png": "[encoded data removed]",
            "text/plain": [
              "<Figure size 432x288 with 1 Axes>"
            ]
          },
          "metadata": {
            "tags": [],
            "needs_background": "light"
          }
        }
      ]
    },
    {
      "cell_type": "code",
      "metadata": {
        "id": "wpYJG4VGWjO3",
        "colab_type": "code",
        "colab": {
          "base_uri": "https://localhost:8080/",
          "height": 34
        },
        "outputId": "b422705e-4f0c-42be-f332-c13ec63ac7bd"
      },
      "source": [
        "sample_image.split('.')[-3]"
      ],
      "execution_count": 16,
      "outputs": [
        {
          "output_type": "execute_result",
          "data": {
            "text/plain": [
              "'cat'"
            ]
          },
          "metadata": {
            "tags": []
          },
          "execution_count": 16
        }
      ]
    },
    {
      "cell_type": "code",
      "metadata": {
        "id": "bj7xTUL5XthZ",
        "colab_type": "code",
        "colab": {}
      },
      "source": [
        "filenames = os.listdir(\"/content/train\")\n",
        "categories = []\n",
        "for filename in filenames:\n",
        "  category = filename.split('.')[0]\n",
        "  if category == \"dog\":\n",
        "    categories.append(1)\n",
        "  else:\n",
        "    categories.append(0)\n",
        "\n",
        "df = pd.DataFrame({\n",
        "    'filename' : filenames,\n",
        "    'category':categories\n",
        "})"
      ],
      "execution_count": 0,
      "outputs": []
    },
    {
      "cell_type": "code",
      "metadata": {
        "id": "h37lo3F-YQoN",
        "colab_type": "code",
        "colab": {}
      },
      "source": [
        "filenames = os.listdir(TRAIN_DIR)\n",
        "categories = []\n",
        "for filename in filenames:\n",
        "  category = filename.split('.')[-3]\n",
        "  if category == \"dog\":\n",
        "    categories.append(1)\n",
        "  else:\n",
        "    categories.append(0)\n",
        "df = pd.DataFrame({\n",
        "    'filename':filenames,\n",
        "    'category':categories\n",
        "})"
      ],
      "execution_count": 0,
      "outputs": []
    },
    {
      "cell_type": "code",
      "metadata": {
        "id": "a1k4Tu9KY7Oy",
        "colab_type": "code",
        "colab": {
          "base_uri": "https://localhost:8080/",
          "height": 204
        },
        "outputId": "62c2d8ac-a2a1-4f8a-bd5f-f374b7318f38"
      },
      "source": [
        "df.head()\n"
      ],
      "execution_count": 29,
      "outputs": [
        {
          "output_type": "execute_result",
          "data": {
            "text/html": [
              "<div>\n",
              "<style scoped>\n",
              "    .dataframe tbody tr th:only-of-type {\n",
              "        vertical-align: middle;\n",
              "    }\n",
              "\n",
              "    .dataframe tbody tr th {\n",
              "        vertical-align: top;\n",
              "    }\n",
              "\n",
              "    .dataframe thead th {\n",
              "        text-align: right;\n",
              "    }\n",
              "</style>\n",
              "<table border=\"1\" class=\"dataframe\">\n",
              "  <thead>\n",
              "    <tr style=\"text-align: right;\">\n",
              "      <th></th>\n",
              "      <th>filename</th>\n",
              "      <th>category</th>\n",
              "    </tr>\n",
              "  </thead>\n",
              "  <tbody>\n",
              "    <tr>\n",
              "      <th>0</th>\n",
              "      <td>cat.3682.jpg</td>\n",
              "      <td>0</td>\n",
              "    </tr>\n",
              "    <tr>\n",
              "      <th>1</th>\n",
              "      <td>cat.9398.jpg</td>\n",
              "      <td>0</td>\n",
              "    </tr>\n",
              "    <tr>\n",
              "      <th>2</th>\n",
              "      <td>dog.12110.jpg</td>\n",
              "      <td>1</td>\n",
              "    </tr>\n",
              "    <tr>\n",
              "      <th>3</th>\n",
              "      <td>dog.5665.jpg</td>\n",
              "      <td>1</td>\n",
              "    </tr>\n",
              "    <tr>\n",
              "      <th>4</th>\n",
              "      <td>cat.12348.jpg</td>\n",
              "      <td>0</td>\n",
              "    </tr>\n",
              "  </tbody>\n",
              "</table>\n",
              "</div>"
            ],
            "text/plain": [
              "        filename  category\n",
              "0   cat.3682.jpg         0\n",
              "1   cat.9398.jpg         0\n",
              "2  dog.12110.jpg         1\n",
              "3   dog.5665.jpg         1\n",
              "4  cat.12348.jpg         0"
            ]
          },
          "metadata": {
            "tags": []
          },
          "execution_count": 29
        }
      ]
    },
    {
      "cell_type": "code",
      "metadata": {
        "id": "bx1XHY-yatfm",
        "colab_type": "code",
        "colab": {}
      },
      "source": [
        "df[\"category\"] = df[\"category\"].replace({0:'cat',1:'dog'})"
      ],
      "execution_count": 0,
      "outputs": []
    },
    {
      "cell_type": "code",
      "metadata": {
        "id": "0D0aa2mKbGEQ",
        "colab_type": "code",
        "colab": {
          "base_uri": "https://localhost:8080/",
          "height": 204
        },
        "outputId": "1278495e-a12e-42d0-9277-102e56925ec2"
      },
      "source": [
        "df.head()"
      ],
      "execution_count": 33,
      "outputs": [
        {
          "output_type": "execute_result",
          "data": {
            "text/html": [
              "<div>\n",
              "<style scoped>\n",
              "    .dataframe tbody tr th:only-of-type {\n",
              "        vertical-align: middle;\n",
              "    }\n",
              "\n",
              "    .dataframe tbody tr th {\n",
              "        vertical-align: top;\n",
              "    }\n",
              "\n",
              "    .dataframe thead th {\n",
              "        text-align: right;\n",
              "    }\n",
              "</style>\n",
              "<table border=\"1\" class=\"dataframe\">\n",
              "  <thead>\n",
              "    <tr style=\"text-align: right;\">\n",
              "      <th></th>\n",
              "      <th>filename</th>\n",
              "      <th>category</th>\n",
              "    </tr>\n",
              "  </thead>\n",
              "  <tbody>\n",
              "    <tr>\n",
              "      <th>0</th>\n",
              "      <td>cat.3682.jpg</td>\n",
              "      <td>cat</td>\n",
              "    </tr>\n",
              "    <tr>\n",
              "      <th>1</th>\n",
              "      <td>cat.9398.jpg</td>\n",
              "      <td>cat</td>\n",
              "    </tr>\n",
              "    <tr>\n",
              "      <th>2</th>\n",
              "      <td>dog.12110.jpg</td>\n",
              "      <td>dog</td>\n",
              "    </tr>\n",
              "    <tr>\n",
              "      <th>3</th>\n",
              "      <td>dog.5665.jpg</td>\n",
              "      <td>dog</td>\n",
              "    </tr>\n",
              "    <tr>\n",
              "      <th>4</th>\n",
              "      <td>cat.12348.jpg</td>\n",
              "      <td>cat</td>\n",
              "    </tr>\n",
              "  </tbody>\n",
              "</table>\n",
              "</div>"
            ],
            "text/plain": [
              "        filename category\n",
              "0   cat.3682.jpg      cat\n",
              "1   cat.9398.jpg      cat\n",
              "2  dog.12110.jpg      dog\n",
              "3   dog.5665.jpg      dog\n",
              "4  cat.12348.jpg      cat"
            ]
          },
          "metadata": {
            "tags": []
          },
          "execution_count": 33
        }
      ]
    },
    {
      "cell_type": "code",
      "metadata": {
        "id": "yLLXLclSbHWf",
        "colab_type": "code",
        "colab": {
          "base_uri": "https://localhost:8080/",
          "height": 731
        },
        "outputId": "f9b5778a-e895-405c-dd02-c4dac65b3890"
      },
      "source": [
        "model = Sequential()\n",
        "\n",
        "model.add(Conv2D(32, (3, 3), activation='relu', input_shape=(128,128, 3)))\n",
        "model.add(BatchNormalization())\n",
        "model.add(MaxPooling2D(pool_size=(2, 2)))\n",
        "model.add(Dropout(0.25))\n",
        "\n",
        "model.add(Conv2D(64, (3, 3), activation='relu'))\n",
        "model.add(BatchNormalization())\n",
        "model.add(MaxPooling2D(pool_size=(2, 2)))\n",
        "model.add(Dropout(0.25))\n",
        "\n",
        "model.add(Conv2D(128, (3, 3), activation='relu'))\n",
        "model.add(BatchNormalization())\n",
        "model.add(MaxPooling2D(pool_size=(2, 2)))\n",
        "model.add(Dropout(0.25))\n",
        "\n",
        "model.add(Flatten())\n",
        "model.add(Dense(512, activation='relu'))\n",
        "model.add(BatchNormalization())\n",
        "model.add(Dropout(0.5))\n",
        "model.add(Dense(2, activation='softmax')) # 2 because we have cat and dog classes\n",
        "\n",
        "model.compile(loss='categorical_crossentropy', optimizer='rmsprop', metrics=['accuracy'])\n",
        "\n",
        "model.summary()"
      ],
      "execution_count": 44,
      "outputs": [
        {
          "output_type": "stream",
          "text": [
            "Model: \"sequential_3\"\n",
            "_________________________________________________________________\n",
            "Layer (type)                 Output Shape              Param #   \n",
            "=================================================================\n",
            "conv2d_5 (Conv2D)            (None, 126, 126, 32)      896       \n",
            "_________________________________________________________________\n",
            "batch_normalization_4 (Batch (None, 126, 126, 32)      128       \n",
            "_________________________________________________________________\n",
            "max_pooling2d_3 (MaxPooling2 (None, 63, 63, 32)        0         \n",
            "_________________________________________________________________\n",
            "dropout_3 (Dropout)          (None, 63, 63, 32)        0         \n",
            "_________________________________________________________________\n",
            "conv2d_6 (Conv2D)            (None, 61, 61, 64)        18496     \n",
            "_________________________________________________________________\n",
            "batch_normalization_5 (Batch (None, 61, 61, 64)        256       \n",
            "_________________________________________________________________\n",
            "max_pooling2d_4 (MaxPooling2 (None, 30, 30, 64)        0         \n",
            "_________________________________________________________________\n",
            "dropout_4 (Dropout)          (None, 30, 30, 64)        0         \n",
            "_________________________________________________________________\n",
            "conv2d_7 (Conv2D)            (None, 28, 28, 128)       73856     \n",
            "_________________________________________________________________\n",
            "batch_normalization_6 (Batch (None, 28, 28, 128)       512       \n",
            "_________________________________________________________________\n",
            "max_pooling2d_5 (MaxPooling2 (None, 14, 14, 128)       0         \n",
            "_________________________________________________________________\n",
            "dropout_5 (Dropout)          (None, 14, 14, 128)       0         \n",
            "_________________________________________________________________\n",
            "flatten (Flatten)            (None, 25088)             0         \n",
            "_________________________________________________________________\n",
            "dense (Dense)                (None, 512)               12845568  \n",
            "_________________________________________________________________\n",
            "batch_normalization_7 (Batch (None, 512)               2048      \n",
            "_________________________________________________________________\n",
            "dropout_6 (Dropout)          (None, 512)               0         \n",
            "_________________________________________________________________\n",
            "dense_1 (Dense)              (None, 2)                 1026      \n",
            "=================================================================\n",
            "Total params: 12,942,786\n",
            "Trainable params: 12,941,314\n",
            "Non-trainable params: 1,472\n",
            "_________________________________________________________________\n"
          ],
          "name": "stdout"
        }
      ]
    },
    {
      "cell_type": "code",
      "metadata": {
        "id": "ieTRsuJbbSD4",
        "colab_type": "code",
        "colab": {}
      },
      "source": [
        "train_df,validate_df = train_test_split(df,test_size = 0.20,random_state=42)\n",
        "train_df = train_df.reset_index(drop=True) # rest the index\n",
        "validate_df = validate_df.reset_index(drop=True)"
      ],
      "execution_count": 0,
      "outputs": []
    },
    {
      "cell_type": "code",
      "metadata": {
        "id": "SUcQaAk6chs6",
        "colab_type": "code",
        "colab": {
          "base_uri": "https://localhost:8080/",
          "height": 34
        },
        "outputId": "3148b46c-4318-4d0f-a89e-2275de609bee"
      },
      "source": [
        "train_df.shape"
      ],
      "execution_count": 49,
      "outputs": [
        {
          "output_type": "execute_result",
          "data": {
            "text/plain": [
              "(20000, 2)"
            ]
          },
          "metadata": {
            "tags": []
          },
          "execution_count": 49
        }
      ]
    },
    {
      "cell_type": "code",
      "metadata": {
        "id": "5Lw6UfmNcjat",
        "colab_type": "code",
        "colab": {
          "base_uri": "https://localhost:8080/",
          "height": 34
        },
        "outputId": "d6fbafbc-cce1-4391-ea2e-260f58cd19bb"
      },
      "source": [
        "validate_df.shape"
      ],
      "execution_count": 51,
      "outputs": [
        {
          "output_type": "execute_result",
          "data": {
            "text/plain": [
              "(5000, 2)"
            ]
          },
          "metadata": {
            "tags": []
          },
          "execution_count": 51
        }
      ]
    },
    {
      "cell_type": "code",
      "metadata": {
        "id": "w_iE9Ppzcph0",
        "colab_type": "code",
        "colab": {
          "base_uri": "https://localhost:8080/",
          "height": 291
        },
        "outputId": "62d206e2-6956-482e-c06f-149dde10bd03"
      },
      "source": [
        "train_df['category'].value_counts().plot.bar()"
      ],
      "execution_count": 52,
      "outputs": [
        {
          "output_type": "execute_result",
          "data": {
            "text/plain": [
              "<matplotlib.axes._subplots.AxesSubplot at 0x7f830d0f9b00>"
            ]
          },
          "metadata": {
            "tags": []
          },
          "execution_count": 52
        },
        {
          "output_type": "display_data",
          "data": {
            "image/png": "[encoded data removed]",
            "text/plain": [
              "<Figure size 432x288 with 1 Axes>"
            ]
          },
          "metadata": {
            "tags": [],
            "needs_background": "light"
          }
        }
      ]
    },
    {
      "cell_type": "code",
      "metadata": {
        "id": "Ieu8b2F9cvQ9",
        "colab_type": "code",
        "colab": {}
      },
      "source": [
        "total_train = train_df.shape[0]\n",
        "total_validate = validate_df.shape[0]\n",
        "batch_size=15\n",
        "image_size = (128,128)"
      ],
      "execution_count": 0,
      "outputs": []
    },
    {
      "cell_type": "code",
      "metadata": {
        "id": "3FxsOz8mc2zR",
        "colab_type": "code",
        "colab": {
          "base_uri": "https://localhost:8080/",
          "height": 34
        },
        "outputId": "1bd30c30-5af6-4c4b-cbba-5e3d79de0434"
      },
      "source": [
        "train_datagen = ImageDataGenerator(\n",
        "    rotation_range=15,\n",
        "    rescale=1./255,\n",
        "    shear_range=0.1,\n",
        "    zoom_range=0.2,\n",
        "    horizontal_flip=True,\n",
        "    width_shift_range=0.1,\n",
        "    height_shift_range=0.1\n",
        ")\n",
        "\n",
        "train_generator = train_datagen.flow_from_dataframe(\n",
        "    train_df, \n",
        "    \"/content/train/\", \n",
        "    x_col='filename',\n",
        "    y_col='category',\n",
        "    target_size=image_size,\n",
        "    class_mode='categorical',\n",
        "    batch_size=15\n",
        "\n",
        ")"
      ],
      "execution_count": 55,
      "outputs": [
        {
          "output_type": "stream",
          "text": [
            "Found 20000 validated image filenames belonging to 2 classes.\n"
          ],
          "name": "stdout"
        }
      ]
    },
    {
      "cell_type": "code",
      "metadata": {
        "id": "cJ_ClR2pdHJO",
        "colab_type": "code",
        "colab": {
          "base_uri": "https://localhost:8080/",
          "height": 34
        },
        "outputId": "d0f4fc2f-742d-42ac-ceb9-4b90e2ce7a44"
      },
      "source": [
        "validation_datagen = ImageDataGenerator(rescale=1./255)\n",
        "validation_generator = validation_datagen.flow_from_dataframe(\n",
        "    validate_df, \n",
        "    \"/content/train/\", \n",
        "    x_col='filename',\n",
        "    y_col='category',\n",
        "    target_size=image_size,\n",
        "    class_mode='categorical',\n",
        "    batch_size=batch_size\n",
        ")"
      ],
      "execution_count": 56,
      "outputs": [
        {
          "output_type": "stream",
          "text": [
            "Found 5000 validated image filenames belonging to 2 classes.\n"
          ],
          "name": "stdout"
        }
      ]
    },
    {
      "cell_type": "code",
      "metadata": {
        "id": "jJENOUcQdY6_",
        "colab_type": "code",
        "colab": {
          "base_uri": "https://localhost:8080/",
          "height": 697
        },
        "outputId": "ff5c9bce-69c6-4cb9-9d01-d24a0b14c4bd"
      },
      "source": [
        "history = model.fit(\n",
        "    train_generator, \n",
        "    epochs=20,\n",
        "    validation_data=validation_generator,\n",
        "    validation_steps=total_validate//batch_size,\n",
        "    steps_per_epoch=total_train//batch_size,\n",
        "\n",
        ")"
      ],
      "execution_count": 60,
      "outputs": [
        {
          "output_type": "stream",
          "text": [
            "Epoch 1/20\n",
            "1333/1333 [==============================] - 167s 125ms/step - loss: 0.4686 - accuracy: 0.7826 - val_loss: 0.4940 - val_accuracy: 0.7660\n",
            "Epoch 2/20\n",
            "1333/1333 [==============================] - 168s 126ms/step - loss: 0.4366 - accuracy: 0.8019 - val_loss: 0.3832 - val_accuracy: 0.8346\n",
            "Epoch 3/20\n",
            "1333/1333 [==============================] - 173s 130ms/step - loss: 0.4232 - accuracy: 0.8077 - val_loss: 0.4488 - val_accuracy: 0.7920\n",
            "Epoch 4/20\n",
            "1333/1333 [==============================] - 173s 130ms/step - loss: 0.3994 - accuracy: 0.8228 - val_loss: 0.3639 - val_accuracy: 0.8430\n",
            "Epoch 5/20\n",
            "1333/1333 [==============================] - 168s 126ms/step - loss: 0.3930 - accuracy: 0.8264 - val_loss: 0.6445 - val_accuracy: 0.7632\n",
            "Epoch 6/20\n",
            "1333/1333 [==============================] - 167s 126ms/step - loss: 0.3813 - accuracy: 0.8311 - val_loss: 0.4337 - val_accuracy: 0.7830\n",
            "Epoch 7/20\n",
            "1333/1333 [==============================] - 165s 124ms/step - loss: 0.3637 - accuracy: 0.8422 - val_loss: 0.3546 - val_accuracy: 0.8681\n",
            "Epoch 8/20\n",
            "1333/1333 [==============================] - 166s 125ms/step - loss: 0.3579 - accuracy: 0.8453 - val_loss: 0.2826 - val_accuracy: 0.8815\n",
            "Epoch 9/20\n",
            "1333/1333 [==============================] - 165s 124ms/step - loss: 0.3491 - accuracy: 0.8485 - val_loss: 0.3649 - val_accuracy: 0.8386\n",
            "Epoch 10/20\n",
            "1333/1333 [==============================] - 165s 124ms/step - loss: 0.3438 - accuracy: 0.8493 - val_loss: 0.3653 - val_accuracy: 0.8460\n",
            "Epoch 11/20\n",
            "1333/1333 [==============================] - 165s 124ms/step - loss: 0.3430 - accuracy: 0.8529 - val_loss: 0.2908 - val_accuracy: 0.8745\n",
            "Epoch 12/20\n",
            "1333/1333 [==============================] - 167s 125ms/step - loss: 0.3364 - accuracy: 0.8557 - val_loss: 0.3926 - val_accuracy: 0.8280\n",
            "Epoch 13/20\n",
            "1333/1333 [==============================] - 164s 123ms/step - loss: 0.3350 - accuracy: 0.8536 - val_loss: 0.3290 - val_accuracy: 0.8655\n",
            "Epoch 14/20\n",
            "1333/1333 [==============================] - 167s 125ms/step - loss: 0.3190 - accuracy: 0.8635 - val_loss: 0.2725 - val_accuracy: 0.8915\n",
            "Epoch 15/20\n",
            "1333/1333 [==============================] - 166s 124ms/step - loss: 0.3178 - accuracy: 0.8645 - val_loss: 0.3655 - val_accuracy: 0.8535\n",
            "Epoch 16/20\n",
            "1333/1333 [==============================] - 164s 123ms/step - loss: 0.3150 - accuracy: 0.8662 - val_loss: 0.2526 - val_accuracy: 0.9015\n",
            "Epoch 17/20\n",
            "1333/1333 [==============================] - 164s 123ms/step - loss: 0.3198 - accuracy: 0.8651 - val_loss: 0.4572 - val_accuracy: 0.7980\n",
            "Epoch 18/20\n",
            "1333/1333 [==============================] - 162s 122ms/step - loss: 0.3129 - accuracy: 0.8681 - val_loss: 0.2986 - val_accuracy: 0.8861\n",
            "Epoch 19/20\n",
            "1333/1333 [==============================] - 162s 122ms/step - loss: 0.3051 - accuracy: 0.8686 - val_loss: 0.3791 - val_accuracy: 0.8428\n",
            "Epoch 20/20\n",
            "1333/1333 [==============================] - 162s 122ms/step - loss: 0.3060 - accuracy: 0.8707 - val_loss: 0.2582 - val_accuracy: 0.8945\n"
          ],
          "name": "stdout"
        }
      ]
    },
    {
      "cell_type": "code",
      "metadata": {
        "id": "k6jzmDRYdmKA",
        "colab_type": "code",
        "colab": {}
      },
      "source": [
        "result = pd.DataFrame(model.history.history)"
      ],
      "execution_count": 0,
      "outputs": []
    },
    {
      "cell_type": "code",
      "metadata": {
        "id": "LsFHkzPqs02U",
        "colab_type": "code",
        "colab": {
          "base_uri": "https://localhost:8080/",
          "height": 669
        },
        "outputId": "0fa4888e-d7de-4736-98bb-0e0b9c47cdf5"
      },
      "source": [
        "result"
      ],
      "execution_count": 62,
      "outputs": [
        {
          "output_type": "execute_result",
          "data": {
            "text/html": [
              "<div>\n",
              "<style scoped>\n",
              "    .dataframe tbody tr th:only-of-type {\n",
              "        vertical-align: middle;\n",
              "    }\n",
              "\n",
              "    .dataframe tbody tr th {\n",
              "        vertical-align: top;\n",
              "    }\n",
              "\n",
              "    .dataframe thead th {\n",
              "        text-align: right;\n",
              "    }\n",
              "</style>\n",
              "<table border=\"1\" class=\"dataframe\">\n",
              "  <thead>\n",
              "    <tr style=\"text-align: right;\">\n",
              "      <th></th>\n",
              "      <th>loss</th>\n",
              "      <th>accuracy</th>\n",
              "      <th>val_loss</th>\n",
              "      <th>val_accuracy</th>\n",
              "    </tr>\n",
              "  </thead>\n",
              "  <tbody>\n",
              "    <tr>\n",
              "      <th>0</th>\n",
              "      <td>0.468550</td>\n",
              "      <td>0.782596</td>\n",
              "      <td>0.494029</td>\n",
              "      <td>0.765966</td>\n",
              "    </tr>\n",
              "    <tr>\n",
              "      <th>1</th>\n",
              "      <td>0.436591</td>\n",
              "      <td>0.801851</td>\n",
              "      <td>0.383209</td>\n",
              "      <td>0.834635</td>\n",
              "    </tr>\n",
              "    <tr>\n",
              "      <th>2</th>\n",
              "      <td>0.423233</td>\n",
              "      <td>0.807706</td>\n",
              "      <td>0.448786</td>\n",
              "      <td>0.791992</td>\n",
              "    </tr>\n",
              "    <tr>\n",
              "      <th>3</th>\n",
              "      <td>0.399444</td>\n",
              "      <td>0.822817</td>\n",
              "      <td>0.363887</td>\n",
              "      <td>0.843043</td>\n",
              "    </tr>\n",
              "    <tr>\n",
              "      <th>4</th>\n",
              "      <td>0.392988</td>\n",
              "      <td>0.826420</td>\n",
              "      <td>0.644499</td>\n",
              "      <td>0.763163</td>\n",
              "    </tr>\n",
              "    <tr>\n",
              "      <th>5</th>\n",
              "      <td>0.381295</td>\n",
              "      <td>0.831123</td>\n",
              "      <td>0.433683</td>\n",
              "      <td>0.782983</td>\n",
              "    </tr>\n",
              "    <tr>\n",
              "      <th>6</th>\n",
              "      <td>0.363674</td>\n",
              "      <td>0.842182</td>\n",
              "      <td>0.354604</td>\n",
              "      <td>0.868068</td>\n",
              "    </tr>\n",
              "    <tr>\n",
              "      <th>7</th>\n",
              "      <td>0.357938</td>\n",
              "      <td>0.845284</td>\n",
              "      <td>0.282619</td>\n",
              "      <td>0.881481</td>\n",
              "    </tr>\n",
              "    <tr>\n",
              "      <th>8</th>\n",
              "      <td>0.349121</td>\n",
              "      <td>0.848536</td>\n",
              "      <td>0.364854</td>\n",
              "      <td>0.838639</td>\n",
              "    </tr>\n",
              "    <tr>\n",
              "      <th>9</th>\n",
              "      <td>0.343836</td>\n",
              "      <td>0.849337</td>\n",
              "      <td>0.365287</td>\n",
              "      <td>0.846046</td>\n",
              "    </tr>\n",
              "    <tr>\n",
              "      <th>10</th>\n",
              "      <td>0.343038</td>\n",
              "      <td>0.852940</td>\n",
              "      <td>0.290783</td>\n",
              "      <td>0.874474</td>\n",
              "    </tr>\n",
              "    <tr>\n",
              "      <th>11</th>\n",
              "      <td>0.336393</td>\n",
              "      <td>0.855692</td>\n",
              "      <td>0.392563</td>\n",
              "      <td>0.828028</td>\n",
              "    </tr>\n",
              "    <tr>\n",
              "      <th>12</th>\n",
              "      <td>0.335039</td>\n",
              "      <td>0.853640</td>\n",
              "      <td>0.328968</td>\n",
              "      <td>0.865465</td>\n",
              "    </tr>\n",
              "    <tr>\n",
              "      <th>13</th>\n",
              "      <td>0.319010</td>\n",
              "      <td>0.863548</td>\n",
              "      <td>0.272524</td>\n",
              "      <td>0.891491</td>\n",
              "    </tr>\n",
              "    <tr>\n",
              "      <th>14</th>\n",
              "      <td>0.317830</td>\n",
              "      <td>0.864548</td>\n",
              "      <td>0.365456</td>\n",
              "      <td>0.853453</td>\n",
              "    </tr>\n",
              "    <tr>\n",
              "      <th>15</th>\n",
              "      <td>0.314981</td>\n",
              "      <td>0.866250</td>\n",
              "      <td>0.252599</td>\n",
              "      <td>0.901501</td>\n",
              "    </tr>\n",
              "    <tr>\n",
              "      <th>16</th>\n",
              "      <td>0.319797</td>\n",
              "      <td>0.865099</td>\n",
              "      <td>0.457178</td>\n",
              "      <td>0.797998</td>\n",
              "    </tr>\n",
              "    <tr>\n",
              "      <th>17</th>\n",
              "      <td>0.312864</td>\n",
              "      <td>0.868051</td>\n",
              "      <td>0.298566</td>\n",
              "      <td>0.886086</td>\n",
              "    </tr>\n",
              "    <tr>\n",
              "      <th>18</th>\n",
              "      <td>0.305098</td>\n",
              "      <td>0.868551</td>\n",
              "      <td>0.379132</td>\n",
              "      <td>0.842843</td>\n",
              "    </tr>\n",
              "    <tr>\n",
              "      <th>19</th>\n",
              "      <td>0.305984</td>\n",
              "      <td>0.870653</td>\n",
              "      <td>0.258250</td>\n",
              "      <td>0.894494</td>\n",
              "    </tr>\n",
              "  </tbody>\n",
              "</table>\n",
              "</div>"
            ],
            "text/plain": [
              "        loss  accuracy  val_loss  val_accuracy\n",
              "0   0.468550  0.782596  0.494029      0.765966\n",
              "1   0.436591  0.801851  0.383209      0.834635\n",
              "2   0.423233  0.807706  0.448786      0.791992\n",
              "3   0.399444  0.822817  0.363887      0.843043\n",
              "4   0.392988  0.826420  0.644499      0.763163\n",
              "5   0.381295  0.831123  0.433683      0.782983\n",
              "6   0.363674  0.842182  0.354604      0.868068\n",
              "7   0.357938  0.845284  0.282619      0.881481\n",
              "8   0.349121  0.848536  0.364854      0.838639\n",
              "9   0.343836  0.849337  0.365287      0.846046\n",
              "10  0.343038  0.852940  0.290783      0.874474\n",
              "11  0.336393  0.855692  0.392563      0.828028\n",
              "12  0.335039  0.853640  0.328968      0.865465\n",
              "13  0.319010  0.863548  0.272524      0.891491\n",
              "14  0.317830  0.864548  0.365456      0.853453\n",
              "15  0.314981  0.866250  0.252599      0.901501\n",
              "16  0.319797  0.865099  0.457178      0.797998\n",
              "17  0.312864  0.868051  0.298566      0.886086\n",
              "18  0.305098  0.868551  0.379132      0.842843\n",
              "19  0.305984  0.870653  0.258250      0.894494"
            ]
          },
          "metadata": {
            "tags": []
          },
          "execution_count": 62
        }
      ]
    },
    {
      "cell_type": "code",
      "metadata": {
        "id": "N2wAuyVhs3WE",
        "colab_type": "code",
        "colab": {
          "base_uri": "https://localhost:8080/",
          "height": 282
        },
        "outputId": "12bd8145-166b-484c-d91a-5281753a6d5f"
      },
      "source": [
        "result[['accuracy','val_accuracy']].plot()"
      ],
      "execution_count": 63,
      "outputs": [
        {
          "output_type": "execute_result",
          "data": {
            "text/plain": [
              "<matplotlib.axes._subplots.AxesSubplot at 0x7f83080a9320>"
            ]
          },
          "metadata": {
            "tags": []
          },
          "execution_count": 63
        },
        {
          "output_type": "display_data",
          "data": {
            "image/png": "[encoded data removed]",
            "text/plain": [
              "<Figure size 432x288 with 1 Axes>"
            ]
          },
          "metadata": {
            "tags": [],
            "needs_background": "light"
          }
        }
      ]
    },
    {
      "cell_type": "code",
      "metadata": {
        "id": "RbM2_COMs9eU",
        "colab_type": "code",
        "colab": {
          "base_uri": "https://localhost:8080/",
          "height": 282
        },
        "outputId": "9a06ea30-080a-4966-b259-5054052ed39e"
      },
      "source": [
        "result[['loss','val_loss']].plot()"
      ],
      "execution_count": 64,
      "outputs": [
        {
          "output_type": "execute_result",
          "data": {
            "text/plain": [
              "<matplotlib.axes._subplots.AxesSubplot at 0x7f8307f2ea20>"
            ]
          },
          "metadata": {
            "tags": []
          },
          "execution_count": 64
        },
        {
          "output_type": "display_data",
          "data": {
            "image/png": "[encoded data removed]",
            "text/plain": [
              "<Figure size 432x288 with 1 Axes>"
            ]
          },
          "metadata": {
            "tags": [],
            "needs_background": "light"
          }
        }
      ]
    },
    {
      "cell_type": "code",
      "metadata": {
        "id": "R1f5cBOQtD7-",
        "colab_type": "code",
        "colab": {}
      },
      "source": [
        ""
      ],
      "execution_count": 0,
      "outputs": []
    }
  ]
}