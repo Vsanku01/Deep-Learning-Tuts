{
  "nbformat": 4,
  "nbformat_minor": 0,
  "metadata": {
    "colab": {
      "name": "HyperParameter Optimisation.ipynb",
      "provenance": [],
      "authorship_tag": "ABX9TyNpDzZ9Tald/HM196jJ/OWn",
      "include_colab_link": true
    },
    "kernelspec": {
      "name": "python3",
      "display_name": "Python 3"
    }
  },
  "cells": [
    {
      "cell_type": "markdown",
      "metadata": {
        "id": "view-in-github",
        "colab_type": "text"
      },
      "source": [
        "<a href=\"https://colab.research.google.com/github/Vsanku01/Deep-Learning-Tuts/blob/master/HyperParameter_Optimisation.ipynb\" target=\"_parent\"><img src=\"https://colab.research.google.com/assets/colab-badge.svg\" alt=\"Open In Colab\"/></a>"
      ]
    },
    {
      "cell_type": "code",
      "metadata": {
        "id": "PyLSX5mbbZ0q",
        "colab_type": "code",
        "colab": {
          "base_uri": "https://localhost:8080/",
          "height": 1000
        },
        "outputId": "c823b593-870f-4960-87fc-6104104bf885"
      },
      "source": [
        "pip install talos"
      ],
      "execution_count": 2,
      "outputs": [
        {
          "output_type": "stream",
          "text": [
            "Collecting talos\n",
            "\u001b[?25l  Downloading https://files.pythonhosted.org/packages/73/64/65bee9b585f6a196ff3119a60a7170fe0b2a18225a2e1e67115510b46a65/talos-0.6.6-py3-none-any.whl (53kB)\n",
            "\r\u001b[K     |██████▏                         | 10kB 19.3MB/s eta 0:00:01\r\u001b[K     |████████████▎                   | 20kB 3.2MB/s eta 0:00:01\r\u001b[K     |██████████████████▍             | 30kB 3.9MB/s eta 0:00:01\r\u001b[K     |████████████████████████▌       | 40kB 2.9MB/s eta 0:00:01\r\u001b[K     |██████████████████████████████▋ | 51kB 3.6MB/s eta 0:00:01\r\u001b[K     |████████████████████████████████| 61kB 3.1MB/s \n",
            "\u001b[?25hCollecting chances\n",
            "  Downloading https://files.pythonhosted.org/packages/fa/d8/d61112d7476dc3074b855f1edd8556cde9b49b7106853f0b060109dd4c82/chances-0.1.9.tar.gz\n",
            "Collecting statsmodels>=0.11.0\n",
            "\u001b[?25l  Downloading https://files.pythonhosted.org/packages/cb/83/540fd83238a18abe6c2d280fa8e489ac5fcefa1f370f0ca1acd16ae1b860/statsmodels-0.11.1-cp36-cp36m-manylinux1_x86_64.whl (8.7MB)\n",
            "\u001b[K     |████████████████████████████████| 8.7MB 13.3MB/s \n",
            "\u001b[?25hRequirement already satisfied: numpy in /usr/local/lib/python3.6/dist-packages (from talos) (1.17.5)\n",
            "Collecting wrangle\n",
            "  Downloading https://files.pythonhosted.org/packages/85/35/bc729e377417613f2d062a890faea5d649ef1a554df21499e9c3a4a5501a/wrangle-0.6.7.tar.gz\n",
            "Requirement already satisfied: sklearn in /usr/local/lib/python3.6/dist-packages (from talos) (0.0)\n",
            "Requirement already satisfied: tqdm in /usr/local/lib/python3.6/dist-packages (from talos) (4.28.1)\n",
            "Requirement already satisfied: requests in /usr/local/lib/python3.6/dist-packages (from talos) (2.21.0)\n",
            "Requirement already satisfied: pandas in /usr/local/lib/python3.6/dist-packages (from talos) (0.25.3)\n",
            "Collecting keras==2.3.0\n",
            "\u001b[?25l  Downloading https://files.pythonhosted.org/packages/1b/18/2e1ef121e5560ac24c7ac9e363aa5fa7006c40563c989e7211aba95b793a/Keras-2.3.0-py2.py3-none-any.whl (377kB)\n",
            "\u001b[K     |████████████████████████████████| 378kB 44.9MB/s \n",
            "\u001b[?25hCollecting kerasplotlib\n",
            "  Downloading https://files.pythonhosted.org/packages/7b/b7/31663d3b5ea9afd8c2c6ffa06d3c4e118ef363e12dc75b7c49fb6a2d22aa/kerasplotlib-0.1.6.tar.gz\n",
            "Collecting astetik\n",
            "  Downloading https://files.pythonhosted.org/packages/3c/ba/f8622951da73d9b47b45bb847112c388651f9c6e413e712954f260301d9f/astetik-1.9.9.tar.gz\n",
            "Collecting tensorflow==1.14.0\n",
            "\u001b[?25l  Downloading https://files.pythonhosted.org/packages/de/f0/96fb2e0412ae9692dbf400e5b04432885f677ad6241c088ccc5fe7724d69/tensorflow-1.14.0-cp36-cp36m-manylinux1_x86_64.whl (109.2MB)\n",
            "\u001b[K     |████████████████████████████████| 109.2MB 52kB/s \n",
            "\u001b[?25hRequirement already satisfied: scipy in /usr/local/lib/python3.6/dist-packages (from chances->talos) (1.4.1)\n",
            "Requirement already satisfied: patsy>=0.5 in /usr/local/lib/python3.6/dist-packages (from statsmodels>=0.11.0->talos) (0.5.1)\n",
            "Requirement already satisfied: scikit-learn in /usr/local/lib/python3.6/dist-packages (from sklearn->talos) (0.22.1)\n",
            "Requirement already satisfied: urllib3<1.25,>=1.21.1 in /usr/local/lib/python3.6/dist-packages (from requests->talos) (1.24.3)\n",
            "Requirement already satisfied: idna<2.9,>=2.5 in /usr/local/lib/python3.6/dist-packages (from requests->talos) (2.8)\n",
            "Requirement already satisfied: chardet<3.1.0,>=3.0.2 in /usr/local/lib/python3.6/dist-packages (from requests->talos) (3.0.4)\n",
            "Requirement already satisfied: certifi>=2017.4.17 in /usr/local/lib/python3.6/dist-packages (from requests->talos) (2019.11.28)\n",
            "Requirement already satisfied: python-dateutil>=2.6.1 in /usr/local/lib/python3.6/dist-packages (from pandas->talos) (2.6.1)\n",
            "Requirement already satisfied: pytz>=2017.2 in /usr/local/lib/python3.6/dist-packages (from pandas->talos) (2018.9)\n",
            "Requirement already satisfied: keras-applications>=1.0.6 in /usr/local/lib/python3.6/dist-packages (from keras==2.3.0->talos) (1.0.8)\n",
            "Requirement already satisfied: h5py in /usr/local/lib/python3.6/dist-packages (from keras==2.3.0->talos) (2.8.0)\n",
            "Requirement already satisfied: keras-preprocessing>=1.0.5 in /usr/local/lib/python3.6/dist-packages (from keras==2.3.0->talos) (1.1.0)\n",
            "Requirement already satisfied: six>=1.9.0 in /usr/local/lib/python3.6/dist-packages (from keras==2.3.0->talos) (1.12.0)\n",
            "Requirement already satisfied: pyyaml in /usr/local/lib/python3.6/dist-packages (from keras==2.3.0->talos) (3.13)\n",
            "Requirement already satisfied: ipython in /usr/local/lib/python3.6/dist-packages (from kerasplotlib->talos) (5.5.0)\n",
            "Collecting geonamescache\n",
            "\u001b[?25l  Downloading https://files.pythonhosted.org/packages/32/c1/efb823270c8526b2f4f3eb8c804c5a0a55277267ad2312f5eb47bd9cc370/geonamescache-1.1.0-py3-none-any.whl (830kB)\n",
            "\u001b[K     |████████████████████████████████| 839kB 37.3MB/s \n",
            "\u001b[?25hRequirement already satisfied: wheel>=0.26 in /usr/local/lib/python3.6/dist-packages (from tensorflow==1.14.0->talos) (0.34.2)\n",
            "Requirement already satisfied: protobuf>=3.6.1 in /usr/local/lib/python3.6/dist-packages (from tensorflow==1.14.0->talos) (3.10.0)\n",
            "Collecting tensorboard<1.15.0,>=1.14.0\n",
            "\u001b[?25l  Downloading https://files.pythonhosted.org/packages/91/2d/2ed263449a078cd9c8a9ba50ebd50123adf1f8cfbea1492f9084169b89d9/tensorboard-1.14.0-py3-none-any.whl (3.1MB)\n",
            "\u001b[K     |████████████████████████████████| 3.2MB 44.4MB/s \n",
            "\u001b[?25hRequirement already satisfied: google-pasta>=0.1.6 in /usr/local/lib/python3.6/dist-packages (from tensorflow==1.14.0->talos) (0.1.8)\n",
            "Requirement already satisfied: grpcio>=1.8.6 in /usr/local/lib/python3.6/dist-packages (from tensorflow==1.14.0->talos) (1.27.1)\n",
            "Requirement already satisfied: absl-py>=0.7.0 in /usr/local/lib/python3.6/dist-packages (from tensorflow==1.14.0->talos) (0.9.0)\n",
            "Requirement already satisfied: wrapt>=1.11.1 in /usr/local/lib/python3.6/dist-packages (from tensorflow==1.14.0->talos) (1.11.2)\n",
            "Requirement already satisfied: gast>=0.2.0 in /usr/local/lib/python3.6/dist-packages (from tensorflow==1.14.0->talos) (0.2.2)\n",
            "Requirement already satisfied: astor>=0.6.0 in /usr/local/lib/python3.6/dist-packages (from tensorflow==1.14.0->talos) (0.8.1)\n",
            "Collecting tensorflow-estimator<1.15.0rc0,>=1.14.0rc0\n",
            "\u001b[?25l  Downloading https://files.pythonhosted.org/packages/3c/d5/21860a5b11caf0678fbc8319341b0ae21a07156911132e0e71bffed0510d/tensorflow_estimator-1.14.0-py2.py3-none-any.whl (488kB)\n",
            "\u001b[K     |████████████████████████████████| 491kB 48.3MB/s \n",
            "\u001b[?25hRequirement already satisfied: termcolor>=1.1.0 in /usr/local/lib/python3.6/dist-packages (from tensorflow==1.14.0->talos) (1.1.0)\n",
            "Requirement already satisfied: joblib>=0.11 in /usr/local/lib/python3.6/dist-packages (from scikit-learn->sklearn->talos) (0.14.1)\n",
            "Requirement already satisfied: pygments in /usr/local/lib/python3.6/dist-packages (from ipython->kerasplotlib->talos) (2.1.3)\n",
            "Requirement already satisfied: traitlets>=4.2 in /usr/local/lib/python3.6/dist-packages (from ipython->kerasplotlib->talos) (4.3.3)\n",
            "Requirement already satisfied: setuptools>=18.5 in /usr/local/lib/python3.6/dist-packages (from ipython->kerasplotlib->talos) (45.2.0)\n",
            "Requirement already satisfied: prompt-toolkit<2.0.0,>=1.0.4 in /usr/local/lib/python3.6/dist-packages (from ipython->kerasplotlib->talos) (1.0.18)\n",
            "Requirement already satisfied: pexpect; sys_platform != \"win32\" in /usr/local/lib/python3.6/dist-packages (from ipython->kerasplotlib->talos) (4.8.0)\n",
            "Requirement already satisfied: simplegeneric>0.8 in /usr/local/lib/python3.6/dist-packages (from ipython->kerasplotlib->talos) (0.8.1)\n",
            "Requirement already satisfied: pickleshare in /usr/local/lib/python3.6/dist-packages (from ipython->kerasplotlib->talos) (0.7.5)\n",
            "Requirement already satisfied: decorator in /usr/local/lib/python3.6/dist-packages (from ipython->kerasplotlib->talos) (4.4.1)\n",
            "Requirement already satisfied: werkzeug>=0.11.15 in /usr/local/lib/python3.6/dist-packages (from tensorboard<1.15.0,>=1.14.0->tensorflow==1.14.0->talos) (1.0.0)\n",
            "Requirement already satisfied: markdown>=2.6.8 in /usr/local/lib/python3.6/dist-packages (from tensorboard<1.15.0,>=1.14.0->tensorflow==1.14.0->talos) (3.2.1)\n",
            "Requirement already satisfied: ipython-genutils in /usr/local/lib/python3.6/dist-packages (from traitlets>=4.2->ipython->kerasplotlib->talos) (0.2.0)\n",
            "Requirement already satisfied: wcwidth in /usr/local/lib/python3.6/dist-packages (from prompt-toolkit<2.0.0,>=1.0.4->ipython->kerasplotlib->talos) (0.1.8)\n",
            "Requirement already satisfied: ptyprocess>=0.5 in /usr/local/lib/python3.6/dist-packages (from pexpect; sys_platform != \"win32\"->ipython->kerasplotlib->talos) (0.6.0)\n",
            "Building wheels for collected packages: chances, wrangle, kerasplotlib, astetik\n",
            "  Building wheel for chances (setup.py) ... \u001b[?25l\u001b[?25hdone\n",
            "  Created wheel for chances: filename=chances-0.1.9-cp36-none-any.whl size=41609 sha256=d759ec7298c996c15783f3c0093f268c2e8ae3514a0784ccd018c0266a944b48\n",
            "  Stored in directory: /root/.cache/pip/wheels/75/33/46/c871b94249bd57d17797d049b3dff8e3a09c315afb67eb14c6\n",
            "  Building wheel for wrangle (setup.py) ... \u001b[?25l\u001b[?25hdone\n",
            "  Created wheel for wrangle: filename=wrangle-0.6.7-cp36-none-any.whl size=49894 sha256=a24733a5a1b696464234045639f0c6656a4736880914b17e89af209246bc1aca\n",
            "  Stored in directory: /root/.cache/pip/wheels/bf/1b/50/d0403ce6ef269e364894da7b50db68db14c4ac62c577561e2d\n",
            "  Building wheel for kerasplotlib (setup.py) ... \u001b[?25l\u001b[?25hdone\n",
            "  Created wheel for kerasplotlib: filename=kerasplotlib-0.1.6-cp36-none-any.whl size=3601 sha256=317d093a2fcf12b90cfd7ac7aeaf954115f73211740575400ea61fee24f5406d\n",
            "  Stored in directory: /root/.cache/pip/wheels/9d/d3/8c/9503a22b0a38e8b21c70ad834e4606d209193443e5c709305d\n",
            "  Building wheel for astetik (setup.py) ... \u001b[?25l\u001b[?25hdone\n",
            "  Created wheel for astetik: filename=astetik-1.9.9-cp36-none-any.whl size=56960 sha256=8aa484477e91ff471dd10b4ba36882aacbc67b1b99023b0f11bd0231e5d39be2\n",
            "  Stored in directory: /root/.cache/pip/wheels/ae/70/21/c475cd079ec401dd6e1b9b1d42b4c38554ce12679bfb214aad\n",
            "Successfully built chances wrangle kerasplotlib astetik\n",
            "\u001b[31mERROR: wrangle 0.6.7 has requirement scipy==1.2, but you'll have scipy 1.4.1 which is incompatible.\u001b[0m\n",
            "Installing collected packages: chances, statsmodels, keras, wrangle, kerasplotlib, geonamescache, astetik, tensorboard, tensorflow-estimator, tensorflow, talos\n",
            "  Found existing installation: statsmodels 0.10.2\n",
            "    Uninstalling statsmodels-0.10.2:\n",
            "      Successfully uninstalled statsmodels-0.10.2\n",
            "  Found existing installation: Keras 2.2.5\n",
            "    Uninstalling Keras-2.2.5:\n",
            "      Successfully uninstalled Keras-2.2.5\n",
            "  Found existing installation: tensorboard 1.15.0\n",
            "    Uninstalling tensorboard-1.15.0:\n",
            "      Successfully uninstalled tensorboard-1.15.0\n",
            "  Found existing installation: tensorflow-estimator 1.15.1\n",
            "    Uninstalling tensorflow-estimator-1.15.1:\n",
            "      Successfully uninstalled tensorflow-estimator-1.15.1\n",
            "  Found existing installation: tensorflow 1.15.0\n",
            "    Uninstalling tensorflow-1.15.0:\n",
            "      Successfully uninstalled tensorflow-1.15.0\n",
            "Successfully installed astetik-1.9.9 chances-0.1.9 geonamescache-1.1.0 keras-2.3.0 kerasplotlib-0.1.6 statsmodels-0.11.1 talos-0.6.6 tensorboard-1.14.0 tensorflow-1.14.0 tensorflow-estimator-1.14.0 wrangle-0.6.7\n"
          ],
          "name": "stdout"
        }
      ]
    },
    {
      "cell_type": "code",
      "metadata": {
        "id": "Ix9cUdOqioHg",
        "colab_type": "code",
        "colab": {
          "base_uri": "https://localhost:8080/",
          "height": 99
        },
        "outputId": "2b3d30d7-29c4-4272-ab65-c46d5ed3860f"
      },
      "source": [
        "import talos\n",
        "import pandas as pd\n",
        "\n",
        "%matplotlib inline"
      ],
      "execution_count": 3,
      "outputs": [
        {
          "output_type": "stream",
          "text": [
            "Using TensorFlow backend.\n"
          ],
          "name": "stderr"
        },
        {
          "output_type": "display_data",
          "data": {
            "text/html": [
              "<p style=\"color: red;\">\n",
              "The default version of TensorFlow in Colab will soon switch to TensorFlow 2.x.<br>\n",
              "We recommend you <a href=\"https://www.tensorflow.org/guide/migrate\" target=\"_blank\">upgrade</a> now \n",
              "or ensure your notebook will continue to use TensorFlow 1.x via the <code>%tensorflow_version 1.x</code> magic:\n",
              "<a href=\"https://colab.research.google.com/notebooks/tensorflow_version.ipynb\" target=\"_blank\">more info</a>.</p>\n"
            ],
            "text/plain": [
              "<IPython.core.display.HTML object>"
            ]
          },
          "metadata": {
            "tags": []
          }
        }
      ]
    },
    {
      "cell_type": "markdown",
      "metadata": {
        "id": "UBJiRur-jDZJ",
        "colab_type": "text"
      },
      "source": [
        "**Data Preparation**  "
      ]
    },
    {
      "cell_type": "code",
      "metadata": {
        "id": "VLrvBsaajCgH",
        "colab_type": "code",
        "colab": {}
      },
      "source": [
        "x, y = talos.templates.datasets.iris()"
      ],
      "execution_count": 0,
      "outputs": []
    },
    {
      "cell_type": "code",
      "metadata": {
        "id": "itdP2djjjTXx",
        "colab_type": "code",
        "colab": {}
      },
      "source": [
        "from talos.utils import lr_normalizer"
      ],
      "execution_count": 0,
      "outputs": []
    },
    {
      "cell_type": "markdown",
      "metadata": {
        "id": "DrZE0LNDk6cm",
        "colab_type": "text"
      },
      "source": [
        "** Model Preparation **\n",
        "\n",
        "---\n",
        "\n"
      ]
    },
    {
      "cell_type": "code",
      "metadata": {
        "id": "EFuTJwStjX_x",
        "colab_type": "code",
        "colab": {}
      },
      "source": [
        "from keras.models import Sequential\n",
        "from keras.layers import Dropout, Dense\n",
        "\n",
        "def iris_model(x_train, y_train, x_val, y_val, params):\n",
        "    \n",
        "    model = Sequential()                            \n",
        "    model.add(Dense(params['first_neuron'],\n",
        "                    input_dim=x_train.shape[1],\n",
        "                    activation='relu'))\n",
        "    \n",
        "    model.add(Dropout(params['dropout']))\n",
        "    model.add(Dense(y_train.shape[1],\n",
        "                    activation=params['last_activation']))\n",
        "\n",
        "    model.compile(optimizer=params['optimizer'](lr=lr_normalizer(params['lr'], params['optimizer'])),\n",
        "                  loss=params['loss'],\n",
        "                  metrics=['acc'])\n",
        "\n",
        "    out = model.fit(x_train, y_train,\n",
        "                    batch_size=params['batch_size'],\n",
        "                    epochs=params['epochs'],\n",
        "                    verbose=0,\n",
        "                    validation_data=[x_val, y_val])\n",
        "    \n",
        "    return out, model"
      ],
      "execution_count": 0,
      "outputs": []
    },
    {
      "cell_type": "markdown",
      "metadata": {
        "id": "H_zhY71Gk0gs",
        "colab_type": "text"
      },
      "source": [
        "**Setting the Parameter Space Boundaries**"
      ]
    },
    {
      "cell_type": "code",
      "metadata": {
        "id": "IALp-uc2jZWv",
        "colab_type": "code",
        "colab": {}
      },
      "source": [
        "from keras.optimizers import Adam, Nadam\n",
        "from keras.activations import softmax\n",
        "from keras.losses import categorical_crossentropy, logcosh\n",
        "\n",
        "p = {'lr': (0.1, 10, 10),\n",
        "     'first_neuron':[4, 8, 16, 32, 64, 128],\n",
        "     'batch_size': [2, 3, 4],\n",
        "     'epochs': [200],\n",
        "     'dropout': (0, 0.40, 10),\n",
        "     'optimizer': [Adam, Nadam],\n",
        "     'loss': ['categorical_crossentropy'],\n",
        "     'last_activation': ['softmax'],\n",
        "     'weight_regulizer': [None]}"
      ],
      "execution_count": 0,
      "outputs": []
    },
    {
      "cell_type": "markdown",
      "metadata": {
        "id": "BGzWmALOkrsp",
        "colab_type": "text"
      },
      "source": [
        "**Run the Hyperparameter Scan**"
      ]
    },
    {
      "cell_type": "code",
      "metadata": {
        "id": "IAVwcd3WjcN8",
        "colab_type": "code",
        "colab": {
          "base_uri": "https://localhost:8080/",
          "height": 87
        },
        "outputId": "e7d91207-6e79-4318-c56c-c357fd238160"
      },
      "source": [
        "scan_object = talos.Scan(x,\n",
        "                         y, \n",
        "                         params=p,\n",
        "                         model=iris_model,\n",
        "                         experiment_name='iris',\n",
        "                         fraction_limit=.001)"
      ],
      "execution_count": 8,
      "outputs": [
        {
          "output_type": "stream",
          "text": [
            "\r  0%|          | 0/3 [00:00<?, ?it/s]"
          ],
          "name": "stderr"
        },
        {
          "output_type": "stream",
          "text": [
            "WARNING:tensorflow:From /usr/local/lib/python3.6/dist-packages/keras/backend/tensorflow_backend.py:422: The name tf.global_variables is deprecated. Please use tf.compat.v1.global_variables instead.\n",
            "\n"
          ],
          "name": "stdout"
        },
        {
          "output_type": "stream",
          "text": [
            "100%|██████████| 3/3 [00:30<00:00,  9.47s/it]\n"
          ],
          "name": "stderr"
        }
      ]
    },
    {
      "cell_type": "markdown",
      "metadata": {
        "id": "sdgCNF1tklnK",
        "colab_type": "text"
      },
      "source": [
        "**Access the results through the Scan object**\n",
        "\n",
        "---\n",
        "\n"
      ]
    },
    {
      "cell_type": "code",
      "metadata": {
        "id": "pbydgdUzjiPC",
        "colab_type": "code",
        "colab": {
          "base_uri": "https://localhost:8080/",
          "height": 220
        },
        "outputId": "41e09be9-0f55-438b-98ec-cb4ee5db6224"
      },
      "source": [
        "# accessing the results data frame\n",
        "scan_object.data.head()\n",
        "\n",
        "# accessing epoch entropy values for each round\n",
        "scan_object.learning_entropy\n",
        "\n",
        "# access the summary details\n",
        "scan_object.details"
      ],
      "execution_count": 9,
      "outputs": [
        {
          "output_type": "execute_result",
          "data": {
            "text/plain": [
              "experiment_name                    iris\n",
              "random_method          uniform_mersenne\n",
              "reduction_method                   None\n",
              "reduction_interval                   50\n",
              "reduction_window                     20\n",
              "reduction_threshold                 0.2\n",
              "reduction_metric                val_acc\n",
              "complete_time            03/09/20/18:28\n",
              "x_shape                        (150, 4)\n",
              "y_shape                        (150, 3)\n",
              "dtype: object"
            ]
          },
          "metadata": {
            "tags": []
          },
          "execution_count": 9
        }
      ]
    },
    {
      "cell_type": "code",
      "metadata": {
        "id": "2bo4GhbKjtWU",
        "colab_type": "code",
        "colab": {
          "base_uri": "https://localhost:8080/",
          "height": 1000
        },
        "outputId": "fc226d72-7b67-4ae5-bec0-09fc1f3a8a41"
      },
      "source": [
        "# accessing the saved models\n",
        "scan_object.saved_models\n",
        "\n",
        "# accessing the saved weights for models\n",
        "scan_object.saved_weights"
      ],
      "execution_count": 10,
      "outputs": [
        {
          "output_type": "execute_result",
          "data": {
            "text/plain": [
              "[[array([[-0.16635558, -0.13919936, -0.25655544,  0.03479411,  0.2506641 ,\n",
              "          -0.17357102, -0.10390008,  0.06091198, -0.4043063 , -0.09313264,\n",
              "           0.3713408 , -0.5655522 , -0.1332193 , -0.19393738, -0.24350451,\n",
              "           0.297299  , -0.2186898 ,  0.6093859 , -0.04549107,  0.22548339,\n",
              "          -0.30976677, -0.2335053 , -0.13054231, -0.34379247, -0.06139001,\n",
              "          -0.5709759 ,  0.11989049,  0.33008355, -0.04271695, -0.26057532,\n",
              "           0.08087051,  0.43472534],\n",
              "         [-0.5434451 , -0.6279164 ,  0.19656733, -0.7746662 ,  0.75491166,\n",
              "          -0.66484416,  0.16567446, -0.11360765, -0.07089993, -0.28983226,\n",
              "           1.0584992 , -0.7687598 , -1.0684563 , -0.4059158 ,  0.04735863,\n",
              "           1.0133023 , -0.3207546 ,  0.83001345, -0.2234465 , -0.31714985,\n",
              "           0.01145795,  0.17271489, -0.16824347, -0.03130466,  0.08764544,\n",
              "          -0.7450561 ,  0.897009  ,  0.5979033 , -0.274571  , -0.18619378,\n",
              "          -0.32990554,  1.1016372 ],\n",
              "         [ 0.80468136,  0.7594611 ,  0.279662  ,  0.82775384, -0.9454822 ,\n",
              "           0.10945028, -0.2385759 , -0.25262538,  0.161318  , -0.24746192,\n",
              "          -0.81863064,  0.98577505,  0.80250674, -0.18972203, -0.03066039,\n",
              "          -0.7665232 ,  0.33604544, -1.0994662 , -0.21502633, -0.3274553 ,\n",
              "          -0.38661253, -0.23936665,  0.25355205,  0.33974886, -0.0980815 ,\n",
              "           0.6723687 , -0.8230844 , -0.85461634, -0.16056982, -0.36450484,\n",
              "          -0.34413743, -0.8868274 ],\n",
              "         [ 0.968412  ,  1.2609657 , -0.42032042,  0.60122234, -1.0785849 ,\n",
              "           1.2865123 ,  0.05602743,  0.05286151,  0.40577757, -0.11426932,\n",
              "          -1.3674045 ,  1.5945405 ,  1.73284   , -0.13820043,  0.3826301 ,\n",
              "          -1.2453253 , -0.03174111, -1.1456761 ,  0.35415602,  0.2806676 ,\n",
              "           0.08989727,  0.38066417, -0.22560877,  0.04535821, -0.16878325,\n",
              "           0.9683249 , -1.056948  , -1.1274991 ,  0.2707882 , -0.12921554,\n",
              "          -0.3860943 , -1.7194521 ]], dtype=float32),\n",
              "  array([-0.6968684 , -0.5182631 , -0.02792388, -0.45323917,  0.21736996,\n",
              "         -1.0382766 , -0.02410314,  0.        ,  0.        ,  0.        ,\n",
              "          1.1740867 , -0.9365382 , -0.74458754,  0.        ,  0.        ,\n",
              "          1.0321891 ,  0.        ,  0.97533435,  0.        , -0.03113207,\n",
              "          0.        ,  0.        , -0.09827023,  0.        ,  0.        ,\n",
              "         -1.0208979 ,  0.7779316 ,  0.6257957 ,  0.        ,  0.        ,\n",
              "          0.        ,  1.0101476 ], dtype=float32),\n",
              "  array([[-2.60543489e+00,  2.37880950e-03,  4.93099481e-01],\n",
              "         [-2.54366136e+00,  3.19649935e-01,  4.91749197e-01],\n",
              "         [ 1.59995437e-01, -3.85650456e-01,  3.62109959e-01],\n",
              "         [-2.09547186e+00,  1.84896022e-01,  5.00473022e-01],\n",
              "         [ 1.12990916e+00, -1.53975523e+00, -8.91085744e-01],\n",
              "         [-8.05951536e-01, -3.00070435e-01,  4.86415178e-01],\n",
              "         [-3.08032542e-01, -1.10525906e-01, -4.17410672e-01],\n",
              "         [ 5.01457751e-02,  2.99512535e-01, -1.47381604e-01],\n",
              "         [-3.34635824e-01, -2.38478363e-01, -6.09663725e-02],\n",
              "         [-1.31075323e-01,  2.65840977e-01, -2.07463890e-01],\n",
              "         [ 1.00937665e+00,  7.61540592e-01, -2.19199872e+00],\n",
              "         [-2.77836418e+00, -3.13905001e-01,  8.69858563e-01],\n",
              "         [-2.40249372e+00, -1.97074652e-01,  1.23689331e-01],\n",
              "         [ 6.67993426e-02,  3.54197055e-01, -3.49986345e-01],\n",
              "         [ 3.40895027e-01, -6.35209084e-02,  4.08402532e-01],\n",
              "         [ 1.38489497e+00,  9.86895382e-01, -2.19694519e+00],\n",
              "         [-4.75784838e-02,  1.80759877e-01, -1.96922734e-01],\n",
              "         [ 1.28102303e+00,  9.77475107e-01, -1.95506930e+00],\n",
              "         [-2.09585130e-02,  3.55920106e-01,  3.97508144e-02],\n",
              "         [ 2.44408831e-01,  8.21306184e-02,  1.90122396e-01],\n",
              "         [ 2.27276891e-01,  1.42803222e-01, -4.00775671e-02],\n",
              "         [ 3.66397947e-01, -3.59577954e-01,  8.33828151e-02],\n",
              "         [ 3.41083527e-01, -2.96686053e-01, -3.41536313e-01],\n",
              "         [ 2.76039392e-01, -3.56161237e-01, -5.98569214e-02],\n",
              "         [ 2.79364198e-01,  3.18541497e-01,  1.32653743e-01],\n",
              "         [-3.49567056e-01, -5.92651546e-01,  1.38954198e+00],\n",
              "         [ 1.73008561e+00,  5.80165088e-01, -2.10508823e+00],\n",
              "         [ 1.51560891e+00,  1.87198758e-01, -1.84618306e+00],\n",
              "         [ 8.35635364e-02, -2.06171021e-01,  1.59328252e-01],\n",
              "         [-1.03795022e-01,  1.77184433e-01, -3.40475291e-01],\n",
              "         [-6.15735650e-02, -6.71018958e-02,  2.08222300e-01],\n",
              "         [ 1.04802883e+00,  5.09214401e-01, -1.82628214e+00]], dtype=float32),\n",
              "  array([-2.2224028 ,  0.38342068,  0.29580903], dtype=float32)],\n",
              " [array([[-2.07323730e-01, -2.66242296e-01, -2.60940015e-01,\n",
              "           1.02615826e-01,  1.35290951e-01,  1.09822653e-01,\n",
              "          -1.60544127e-01,  3.22185010e-01,  5.28669730e-02,\n",
              "          -2.54855275e-01,  3.35617721e-01, -3.40373993e-01,\n",
              "          -7.05091357e-02, -7.36407489e-02, -2.00494379e-01,\n",
              "          -5.83261549e-02, -2.41581693e-01,  2.06915796e-01,\n",
              "          -2.38204449e-01, -5.90325296e-02,  3.87358546e-01,\n",
              "           9.15528536e-02, -2.81914026e-01, -2.03982174e-01,\n",
              "           1.76740274e-01, -1.43660918e-01, -1.21935107e-01,\n",
              "          -1.21082589e-01, -3.76543969e-01, -2.06310481e-01,\n",
              "          -1.90272853e-01, -3.09172738e-03, -6.01773970e-02,\n",
              "           3.78871299e-02,  2.91822255e-02, -1.78046376e-01,\n",
              "          -8.51812959e-03, -2.41330639e-01, -2.89161503e-02,\n",
              "          -2.02184677e-01, -1.07350148e-01,  8.57863668e-03,\n",
              "          -3.61051597e-02, -1.82987288e-01,  4.60352153e-02,\n",
              "          -1.79501459e-01, -2.50978559e-01,  2.07621858e-01,\n",
              "          -2.58694649e-01,  1.39124393e-01,  1.34291977e-01,\n",
              "          -7.47140348e-02, -1.06455073e-01, -3.18383962e-01,\n",
              "          -5.62815666e-02,  1.94401935e-01, -2.18932033e-02,\n",
              "           7.70599842e-02, -2.59103984e-01,  2.42651433e-01,\n",
              "          -1.23778239e-01, -1.60620332e-01,  2.66378611e-01,\n",
              "          -2.08595797e-01],\n",
              "         [ 2.39557147e-01, -2.30666280e-01,  1.31180435e-01,\n",
              "          -2.90867895e-01, -1.33756056e-01, -2.97826082e-01,\n",
              "          -2.15159833e-01,  6.28374219e-01, -2.85168856e-01,\n",
              "           6.58226907e-02,  7.33334184e-01, -3.95139664e-01,\n",
              "           6.59082755e-02, -8.55149329e-02, -6.51470184e-01,\n",
              "           5.21816611e-02,  1.20506108e-01,  4.65857536e-01,\n",
              "          -1.41958818e-01, -2.00772792e-01,  7.50049531e-01,\n",
              "           3.51154923e-01,  2.93392658e-01,  1.12129629e-01,\n",
              "           7.36534178e-01, -1.74050868e-01, -2.56740302e-02,\n",
              "          -5.77189475e-02, -4.33929056e-01,  2.81273544e-01,\n",
              "          -1.96229890e-01,  3.55688296e-02, -6.61765993e-01,\n",
              "          -8.20541859e-01, -2.07477123e-01,  2.19320059e-01,\n",
              "          -2.11337060e-01, -4.34590459e-01, -2.15129316e-01,\n",
              "          -1.14743978e-01, -8.97259653e-01,  5.44427276e-01,\n",
              "          -4.40042406e-01,  3.98333706e-02, -4.33234125e-01,\n",
              "          -1.77638948e-01,  1.04550093e-01,  1.95958540e-01,\n",
              "           2.52037585e-01,  1.24213532e-01,  4.51793820e-01,\n",
              "          -1.93633124e-01, -4.07590985e-01, -5.49656153e-01,\n",
              "           8.17903876e-03,  8.98075044e-01, -1.02002874e-01,\n",
              "          -2.54007429e-01, -1.17923409e-01,  9.56629872e-01,\n",
              "           1.08358055e-01, -1.69142917e-01, -9.50437561e-02,\n",
              "          -6.69758081e-01],\n",
              "         [-2.07054809e-01, -1.44067720e-01,  3.62640321e-02,\n",
              "           1.54066095e-02, -2.77462304e-01, -3.12973885e-03,\n",
              "           2.35364914e-01, -5.70105731e-01,  4.54223394e-01,\n",
              "           4.44582999e-02, -6.13047004e-01,  7.10332513e-01,\n",
              "          -1.01409562e-01, -2.52255797e-01,  5.10550499e-01,\n",
              "          -7.20084012e-02, -1.97198600e-01, -6.15237653e-01,\n",
              "           1.79494292e-01, -2.20885351e-01, -6.17030382e-01,\n",
              "          -5.33998609e-01, -2.22963378e-01, -1.61178321e-01,\n",
              "          -5.47317505e-01,  1.23608708e-01, -1.25604242e-01,\n",
              "          -2.10944936e-01,  8.38589728e-01, -2.67984062e-01,\n",
              "           6.97271228e-01, -2.87892878e-01,  4.12248701e-01,\n",
              "           8.54812920e-01, -5.83288074e-03, -2.73871422e-03,\n",
              "          -4.83458042e-02,  6.28660440e-01, -1.46860540e-01,\n",
              "          -7.66596943e-02,  7.93461025e-01, -6.19421244e-01,\n",
              "           2.05960035e-01,  1.89858437e-01,  1.10385679e-01,\n",
              "           5.05263805e-02,  2.05954254e-01, -4.52358931e-01,\n",
              "          -2.55786657e-01, -3.52278471e-01, -6.51346207e-01,\n",
              "          -2.85379082e-01,  3.35892975e-01,  4.89363760e-01,\n",
              "           1.69792771e-03, -6.13588810e-01,  5.97995222e-02,\n",
              "          -7.28100985e-02,  2.58880973e-01, -7.63591409e-01,\n",
              "          -1.06462613e-01,  4.56660986e-04, -2.91622937e-01,\n",
              "           7.00342715e-01],\n",
              "         [ 1.41118377e-01,  2.02752084e-01, -1.15561187e-01,\n",
              "           3.86212319e-02, -2.95615464e-01, -1.85768768e-01,\n",
              "          -8.85703564e-02, -1.14173269e+00,  9.52074885e-01,\n",
              "          -2.25305989e-01, -1.23545384e+00,  9.56516147e-01,\n",
              "          -4.54986721e-01,  2.33363211e-02,  6.77358091e-01,\n",
              "          -1.49402305e-01,  1.85118407e-01, -9.09339905e-01,\n",
              "           7.95482099e-02,  2.57089496e-01, -1.06459332e+00,\n",
              "          -4.14022624e-01,  5.82621992e-02, -2.00925559e-01,\n",
              "          -9.68703389e-01,  1.56322479e-01, -5.23356736e-01,\n",
              "           1.63231999e-01,  7.76250243e-01,  2.33510852e-01,\n",
              "           7.37152040e-01,  3.43330353e-02,  1.79859817e-01,\n",
              "           5.65752029e-01, -2.61201918e-01,  4.36942279e-02,\n",
              "           2.11347401e-01,  5.88590264e-01,  8.67769718e-02,\n",
              "          -1.04461566e-01,  8.96733701e-01, -6.76960588e-01,\n",
              "           3.24191421e-01, -2.94129133e-01, -5.34433387e-02,\n",
              "           8.86475444e-02, -2.88997889e-02, -9.36366320e-01,\n",
              "           2.18860805e-01, -6.18847847e-01, -9.57694471e-01,\n",
              "           1.62454665e-01,  1.42321587e-01,  8.29125285e-01,\n",
              "          -3.09557319e-02, -1.05605125e+00, -2.33757257e-01,\n",
              "           2.00280875e-01,  5.84378839e-03, -7.86594987e-01,\n",
              "           1.88461006e-01, -7.73210973e-02, -6.10233903e-01,\n",
              "           8.62902761e-01]], dtype=float32),\n",
              "  array([ 0.        ,  0.        ,  0.        , -0.12685123,  0.        ,\n",
              "         -0.02837688,  0.        ,  0.7373418 , -0.49565163,  0.        ,\n",
              "          0.5819661 , -0.76527905, -0.17988968,  0.        , -0.7706706 ,\n",
              "          0.        ,  0.        ,  0.37967172,  0.        ,  0.        ,\n",
              "          0.77529466,  0.25845453,  0.        ,  0.        ,  0.67710596,\n",
              "          0.        , -0.15683046,  0.        , -0.70291007,  0.        ,\n",
              "         -0.26494738, -0.02764383, -0.368937  , -0.437444  ,  0.        ,\n",
              "          0.        ,  0.        , -0.5965498 ,  0.        ,  0.        ,\n",
              "         -0.77380675,  0.45554116, -0.47236225, -0.02951961, -0.16838683,\n",
              "          0.        ,  0.        ,  0.31013262,  0.        ,  0.20368418,\n",
              "          0.04369928,  0.        , -0.47883207, -0.7987096 ,  0.        ,\n",
              "          0.7555399 ,  0.        ,  0.        ,  0.        ,  0.81592715,\n",
              "          0.        ,  0.        ,  0.21128884, -0.55223715], dtype=float32),\n",
              "  array([[ 1.36817843e-01, -1.29923522e-01,  1.04705572e-01],\n",
              "         [-3.45723927e-02, -7.65448809e-02, -1.20696664e-01],\n",
              "         [-1.99794769e-03,  1.00559920e-01, -4.71627116e-02],\n",
              "         [ 1.50412738e-01, -5.80189228e-02,  2.22456157e-01],\n",
              "         [-6.46957159e-02, -1.28829345e-01, -2.43879497e-01],\n",
              "         [ 1.86085716e-01,  4.11986373e-03, -2.27046415e-01],\n",
              "         [ 1.84695095e-01, -1.85348347e-01,  2.37093091e-01],\n",
              "         [ 7.22821414e-01,  6.27155244e-01, -1.12546253e+00],\n",
              "         [-2.14032912e+00, -6.51734173e-02,  3.77546132e-01],\n",
              "         [ 2.69638062e-01,  2.26302862e-01,  5.10004163e-02],\n",
              "         [ 2.41849363e-01,  2.79051095e-01, -5.35188138e-01],\n",
              "         [-5.08510768e-01, -2.25277662e-01,  5.30173779e-01],\n",
              "         [-5.15697412e-02, -2.67846823e-01, -1.95757911e-01],\n",
              "         [ 1.00508630e-02,  8.88155699e-02,  2.91560531e-01],\n",
              "         [-5.20463362e-02,  8.71006623e-02,  2.93880403e-01],\n",
              "         [ 2.52710581e-02, -2.65965730e-01,  1.51094019e-01],\n",
              "         [ 1.11212671e-01, -2.00334191e-02, -6.32635504e-02],\n",
              "         [ 4.47168589e-01, -2.49332830e-01, -4.65912908e-01],\n",
              "         [-1.00926429e-01, -1.71252489e-02,  1.87931418e-01],\n",
              "         [-1.54500008e-01, -2.15051353e-01,  1.78414524e-01],\n",
              "         [ 7.17826366e-01,  7.95024097e-01, -1.58370459e+00],\n",
              "         [ 1.25146222e+00, -2.45764479e-01, -3.03317666e-01],\n",
              "         [ 3.70527208e-02, -1.83495820e-01, -2.75084853e-01],\n",
              "         [-8.46693516e-02,  1.27281874e-01,  2.87784755e-01],\n",
              "         [ 8.74144316e-01,  3.06384265e-01, -8.79808724e-01],\n",
              "         [-2.11597711e-01, -1.01587117e-01, -5.57860583e-02],\n",
              "         [ 6.91146404e-02, -2.12400109e-01, -2.09122479e-01],\n",
              "         [ 1.20264292e-01,  1.99402362e-01, -2.55865425e-01],\n",
              "         [-2.10018253e+00, -1.53746396e-01,  6.74361706e-01],\n",
              "         [-1.46987483e-01, -2.71198869e-01, -5.22129834e-02],\n",
              "         [-5.01760578e+00,  3.70284319e-02,  4.01999354e-01],\n",
              "         [-9.72480774e-02, -2.68282324e-01,  2.52936631e-01],\n",
              "         [-1.28058100e+00,  2.50345916e-01,  2.73182482e-01],\n",
              "         [-3.49520278e+00,  1.02665588e-01,  5.52308917e-01],\n",
              "         [-1.78420097e-01, -2.35337570e-01,  4.91950512e-02],\n",
              "         [ 7.63783455e-02,  2.51179576e-01, -1.03823349e-01],\n",
              "         [ 2.72736847e-02,  1.62759691e-01, -4.14577127e-02],\n",
              "         [-4.36828375e-01, -2.05405831e-01,  3.74428481e-01],\n",
              "         [-4.94422019e-02,  3.01683247e-02,  3.06214690e-02],\n",
              "         [-2.80833751e-01, -3.62956524e-02,  1.38141692e-01],\n",
              "         [-1.06801081e+00, -4.76271361e-01,  7.04044044e-01],\n",
              "         [ 2.92822385e+00, -4.48359400e-02, -1.05353200e+00],\n",
              "         [-2.30716690e-01, -1.33849606e-01,  1.72226116e-01],\n",
              "         [-7.07624629e-02,  4.50697206e-02, -6.27331994e-03],\n",
              "         [-3.76105398e-01,  1.79121405e-01,  2.00377762e-01],\n",
              "         [ 1.87541991e-01, -6.06566519e-02, -1.51382625e-01],\n",
              "         [-1.68384850e-01,  3.23183239e-02,  2.07337499e-01],\n",
              "         [ 1.65832829e+00,  8.95968601e-02, -1.76031008e-01],\n",
              "         [-2.19903767e-01,  1.67495310e-01,  8.26995969e-02],\n",
              "         [ 5.88094532e-01, -1.60630763e-01,  4.81061861e-02],\n",
              "         [ 1.47317123e+00, -2.38458693e-01, -2.85176545e-01],\n",
              "         [-1.32740751e-01, -9.69262719e-02,  5.62413931e-02],\n",
              "         [-5.20934880e-01,  1.19559519e-01,  9.54557285e-02],\n",
              "         [-4.20931339e-01, -3.28431763e-02,  5.00940263e-01],\n",
              "         [ 9.76999700e-02,  4.05786335e-02, -1.12609357e-01],\n",
              "         [ 1.39113724e+00,  1.00292695e+00, -1.77057993e+00],\n",
              "         [ 2.39369869e-02, -9.68831778e-02, -2.07414031e-02],\n",
              "         [ 7.58980513e-02, -8.17639381e-02,  1.57896489e-01],\n",
              "         [-2.14769036e-01, -1.70453355e-01, -1.16392776e-01],\n",
              "         [ 1.14045250e+00,  8.95824790e-01, -2.09280515e+00],\n",
              "         [-1.43045038e-01, -5.09509146e-02, -1.56086981e-01],\n",
              "         [-1.66176870e-01,  3.25501859e-02, -2.68889338e-01],\n",
              "         [ 3.77830207e-01, -2.42435396e-01, -7.93709457e-02],\n",
              "         [-2.25808311e+00,  7.74414241e-02,  5.43254614e-01]], dtype=float32),\n",
              "  array([-1.253081  ,  0.38146302, -0.36003277], dtype=float32)],\n",
              " [array([[-0.44997558,  0.56118834, -0.10068744, -0.3500221 , -0.15202136,\n",
              "          -0.5067816 , -0.1199491 , -0.9363607 ],\n",
              "         [-0.531512  ,  1.7556522 ,  0.22656918, -1.3814421 , -1.4667501 ,\n",
              "          -1.0309786 ,  0.17554379, -1.8723843 ],\n",
              "         [-0.47169775, -1.426327  , -0.56203663,  1.314172  ,  1.0198189 ,\n",
              "           0.5275618 , -0.1161375 ,  1.7463953 ],\n",
              "         [ 0.65011865, -1.944083  ,  0.24025285,  2.606718  ,  2.8933148 ,\n",
              "           1.339766  , -0.5245395 ,  3.1264403 ]], dtype=float32),\n",
              "  array([ 0.       ,  1.7122307,  0.       , -1.0634526, -0.7046543,\n",
              "         -1.2509559,  0.       , -1.9373596], dtype=float32),\n",
              "  array([[-0.38689694,  0.55882925,  0.710198  ],\n",
              "         [ 1.8541813 ,  1.5476048 , -2.5097284 ],\n",
              "         [ 0.6969349 ,  0.35053617, -0.660049  ],\n",
              "         [-3.9469652 ,  0.27210313,  0.57727176],\n",
              "         [-5.477105  ,  0.6429653 ,  1.1106207 ],\n",
              "         [-1.1588703 , -1.4793435 ,  1.9452686 ],\n",
              "         [ 0.604168  , -0.50062966, -0.7096978 ],\n",
              "         [-3.6784816 , -0.66229224,  1.0755947 ]], dtype=float32),\n",
              "  array([ 2.0850194,  0.6318805, -2.3321893], dtype=float32)]]"
            ]
          },
          "metadata": {
            "tags": []
          },
          "execution_count": 10
        }
      ]
    },
    {
      "cell_type": "code",
      "metadata": {
        "id": "Qod-pRKYjxCM",
        "colab_type": "code",
        "colab": {}
      },
      "source": [
        "# use Scan object as input\n",
        "analyze_object = talos.Analyze(scan_object)"
      ],
      "execution_count": 0,
      "outputs": []
    },
    {
      "cell_type": "code",
      "metadata": {
        "id": "Su9yghJ1j1fU",
        "colab_type": "code",
        "colab": {
          "base_uri": "https://localhost:8080/",
          "height": 160
        },
        "outputId": "a3e83da1-41ad-41af-be54-3138311e68f5"
      },
      "source": [
        "# access the dataframe with the results\n",
        "analyze_object.data"
      ],
      "execution_count": 12,
      "outputs": [
        {
          "output_type": "execute_result",
          "data": {
            "text/html": [
              "<div>\n",
              "<style scoped>\n",
              "    .dataframe tbody tr th:only-of-type {\n",
              "        vertical-align: middle;\n",
              "    }\n",
              "\n",
              "    .dataframe tbody tr th {\n",
              "        vertical-align: top;\n",
              "    }\n",
              "\n",
              "    .dataframe thead th {\n",
              "        text-align: right;\n",
              "    }\n",
              "</style>\n",
              "<table border=\"1\" class=\"dataframe\">\n",
              "  <thead>\n",
              "    <tr style=\"text-align: right;\">\n",
              "      <th></th>\n",
              "      <th>round_epochs</th>\n",
              "      <th>val_loss</th>\n",
              "      <th>val_acc</th>\n",
              "      <th>loss</th>\n",
              "      <th>acc</th>\n",
              "      <th>batch_size</th>\n",
              "      <th>dropout</th>\n",
              "      <th>epochs</th>\n",
              "      <th>first_neuron</th>\n",
              "      <th>last_activation</th>\n",
              "      <th>loss</th>\n",
              "      <th>lr</th>\n",
              "      <th>optimizer</th>\n",
              "      <th>weight_regulizer</th>\n",
              "    </tr>\n",
              "  </thead>\n",
              "  <tbody>\n",
              "    <tr>\n",
              "      <th>0</th>\n",
              "      <td>200</td>\n",
              "      <td>0.280659</td>\n",
              "      <td>0.933333</td>\n",
              "      <td>0.096838</td>\n",
              "      <td>0.961905</td>\n",
              "      <td>4</td>\n",
              "      <td>0.36</td>\n",
              "      <td>200</td>\n",
              "      <td>32</td>\n",
              "      <td>softmax</td>\n",
              "      <td>categorical_crossentropy</td>\n",
              "      <td>5.05</td>\n",
              "      <td>&lt;class 'keras.optimizers.Nadam'&gt;</td>\n",
              "      <td>None</td>\n",
              "    </tr>\n",
              "    <tr>\n",
              "      <th>1</th>\n",
              "      <td>200</td>\n",
              "      <td>0.517062</td>\n",
              "      <td>0.866667</td>\n",
              "      <td>0.106983</td>\n",
              "      <td>0.971429</td>\n",
              "      <td>2</td>\n",
              "      <td>0.04</td>\n",
              "      <td>200</td>\n",
              "      <td>64</td>\n",
              "      <td>softmax</td>\n",
              "      <td>categorical_crossentropy</td>\n",
              "      <td>5.05</td>\n",
              "      <td>&lt;class 'keras.optimizers.Adam'&gt;</td>\n",
              "      <td>None</td>\n",
              "    </tr>\n",
              "    <tr>\n",
              "      <th>2</th>\n",
              "      <td>200</td>\n",
              "      <td>0.140587</td>\n",
              "      <td>0.933333</td>\n",
              "      <td>0.182127</td>\n",
              "      <td>0.942857</td>\n",
              "      <td>4</td>\n",
              "      <td>0.20</td>\n",
              "      <td>200</td>\n",
              "      <td>8</td>\n",
              "      <td>softmax</td>\n",
              "      <td>categorical_crossentropy</td>\n",
              "      <td>9.01</td>\n",
              "      <td>&lt;class 'keras.optimizers.Nadam'&gt;</td>\n",
              "      <td>None</td>\n",
              "    </tr>\n",
              "  </tbody>\n",
              "</table>\n",
              "</div>"
            ],
            "text/plain": [
              "   round_epochs  val_loss  ...                         optimizer  weight_regulizer\n",
              "0           200  0.280659  ...  <class 'keras.optimizers.Nadam'>              None\n",
              "1           200  0.517062  ...   <class 'keras.optimizers.Adam'>              None\n",
              "2           200  0.140587  ...  <class 'keras.optimizers.Nadam'>              None\n",
              "\n",
              "[3 rows x 14 columns]"
            ]
          },
          "metadata": {
            "tags": []
          },
          "execution_count": 12
        }
      ]
    },
    {
      "cell_type": "code",
      "metadata": {
        "id": "GQnUp7PFj7sx",
        "colab_type": "code",
        "colab": {
          "base_uri": "https://localhost:8080/",
          "height": 170
        },
        "outputId": "674c926a-88b9-4d91-99f5-6bd09e3554f4"
      },
      "source": [
        "# get the number of rounds in the Scan\n",
        "analyze_object.rounds()\n",
        "\n",
        "# get the highest result for any metric\n",
        "analyze_object.high('val_acc')\n",
        "\n",
        "# get the round with the best result\n",
        "analyze_object.rounds2high('val_acc')\n",
        "\n",
        "# get the best paramaters\n",
        "analyze_object.best_params('val_acc', ['acc', 'loss', 'val_loss'])\n",
        "\n",
        "# get correlation for hyperparameters against a metric\n",
        "analyze_object.correlate('val_loss', ['acc', 'loss', 'val_loss'])"
      ],
      "execution_count": 13,
      "outputs": [
        {
          "output_type": "execute_result",
          "data": {
            "text/plain": [
              "round_epochs         NaN\n",
              "val_acc        -0.929799\n",
              "batch_size     -0.929799\n",
              "dropout        -0.621196\n",
              "epochs               NaN\n",
              "first_neuron    0.997929\n",
              "lr             -0.783655\n",
              "Name: val_loss, dtype: float64"
            ]
          },
          "metadata": {
            "tags": []
          },
          "execution_count": 13
        }
      ]
    },
    {
      "cell_type": "markdown",
      "metadata": {
        "id": "_2850V6_kdkA",
        "colab_type": "text"
      },
      "source": [
        "**Analysing the Scan results with Reporting**\n",
        "\n",
        "---\n",
        "\n"
      ]
    },
    {
      "cell_type": "code",
      "metadata": {
        "id": "R0CEMCWGkAu8",
        "colab_type": "code",
        "colab": {
          "base_uri": "https://localhost:8080/",
          "height": 1000
        },
        "outputId": "92822515-ae28-4815-fe40-2ca578ccf613"
      },
      "source": [
        "# a regression plot for two dimensions \n",
        "analyze_object.plot_regs('val_acc', 'val_loss')\n",
        "\n",
        "# line plot\n",
        "analyze_object.plot_line('val_acc')\n",
        "\n",
        "# up to two dimensional kernel density estimator\n",
        "analyze_object.plot_kde('val_acc')\n",
        "\n",
        "# a simple histogram\n",
        "analyze_object.plot_hist('val_acc', bins=50)\n",
        "\n",
        "# heatmap correlation\n",
        "analyze_object.plot_corr('val_loss', ['acc', 'loss', 'val_loss'])\n",
        "\n",
        "# a four dimensional bar grid\n",
        "analyze_object.plot_bars('batch_size', 'val_acc', 'first_neuron', 'lr')"
      ],
      "execution_count": 14,
      "outputs": [
        {
          "output_type": "stream",
          "text": [
            "findfont: Font family ['Verdana'] not found. Falling back to DejaVu Sans.\n"
          ],
          "name": "stderr"
        },
        {
          "output_type": "display_data",
          "data": {
            "image/png": "[encoded data removed]",
            "text/plain": [
              "<Figure size 720x475.2 with 1 Axes>"
            ]
          },
          "metadata": {
            "tags": []
          }
        },
        {
          "output_type": "display_data",
          "data": {
            "image/png": "[encoded data removed]",
            "text/plain": [
              "<Figure size 864x475.2 with 1 Axes>"
            ]
          },
          "metadata": {
            "tags": []
          }
        },
        {
          "output_type": "display_data",
          "data": {
            "image/png": "[encoded data removed]",
            "text/plain": [
              "<Figure size 720x475.2 with 1 Axes>"
            ]
          },
          "metadata": {
            "tags": []
          }
        },
        {
          "output_type": "display_data",
          "data": {
            "image/png": "[encoded data removed]",
            "text/plain": [
              "<Figure size 720x475.2 with 1 Axes>"
            ]
          },
          "metadata": {
            "tags": []
          }
        },
        {
          "output_type": "display_data",
          "data": {
            "image/png": "[encoded data removed]",
            "text/plain": [
              "<Figure size 684x684 with 2 Axes>"
            ]
          },
          "metadata": {
            "tags": []
          }
        },
        {
          "output_type": "display_data",
          "data": {
            "image/png": "[encoded data removed]",
            "text/plain": [
              "<Figure size 1236.25x288 with 2 Axes>"
            ]
          },
          "metadata": {
            "tags": []
          }
        }
      ]
    },
    {
      "cell_type": "markdown",
      "metadata": {
        "id": "j-vWJ1QzkLT-",
        "colab_type": "text"
      },
      "source": [
        "**Evaluating Models with Evaluate**\n",
        "\n",
        "\n",
        "---\n",
        "\n",
        "\n",
        "\n"
      ]
    },
    {
      "cell_type": "code",
      "metadata": {
        "id": "VpzOTzQFkGZ0",
        "colab_type": "code",
        "colab": {
          "base_uri": "https://localhost:8080/",
          "height": 203
        },
        "outputId": "1f611a25-63c7-4b2a-bb4f-3d6511385c6c"
      },
      "source": [
        "evaluate_object = talos.Evaluate(scan_object)\n",
        "evaluate_object.evaluate(x, y, folds=10, metric='val_acc', task='multi_label')"
      ],
      "execution_count": 15,
      "outputs": [
        {
          "output_type": "execute_result",
          "data": {
            "text/plain": [
              "[1.0,\n",
              " 0.8666666666666667,\n",
              " 0.9407407407407407,\n",
              " 1.0,\n",
              " 1.0,\n",
              " 1.0,\n",
              " 0.8585858585858586,\n",
              " 0.9259259259259259,\n",
              " 1.0,\n",
              " 0.9440559440559441]"
            ]
          },
          "metadata": {
            "tags": []
          },
          "execution_count": 15
        }
      ]
    },
    {
      "cell_type": "code",
      "metadata": {
        "id": "Y37eac_BkIPY",
        "colab_type": "code",
        "colab": {}
      },
      "source": [
        ""
      ],
      "execution_count": 0,
      "outputs": []
    }
  ]
}