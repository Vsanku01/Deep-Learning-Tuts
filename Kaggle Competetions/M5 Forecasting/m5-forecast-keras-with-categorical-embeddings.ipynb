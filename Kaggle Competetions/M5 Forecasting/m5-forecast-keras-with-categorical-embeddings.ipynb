{
 "cells": [
  {
   "cell_type": "markdown",
   "metadata": {},
   "source": [
    "# M5 Accuracy: Keras with Categorical Embeddings\n",
    "\n",
    "This notebook tries to model expected sales of product groups. Since many of the features are categorical, we use this example to show how embedding layers make life easy when dealing with categoric inputs for neural nets, even if the number of rows is high.\n",
    "\n",
    "THIS IS WORK IN PROGRESS: Currently, the most urgent issue is to add a reasonable amount of time shifted features.\n",
    "\n",
    "Like for other recent competitions, keeping memory below 13 GB is a challenge."
   ]
  },
  {
   "cell_type": "code",
   "execution_count": 1,
   "metadata": {},
   "outputs": [],
   "source": [
    "import warnings\n",
    "warnings.filterwarnings('ignore')\n",
    "import pandas as pd\n",
    "import numpy as np\n",
    "import matplotlib.pyplot as plt\n",
    "import seaborn as sns\n",
    "import gc\n",
    "import os"
   ]
  },
  {
   "cell_type": "markdown",
   "metadata": {},
   "source": [
    "## Load data"
   ]
  },
  {
   "cell_type": "code",
   "execution_count": 2,
   "metadata": {},
   "outputs": [],
   "source": [
    "path = \"../input/m5-forecasting-accuracy\"\n",
    "calendar = pd.read_csv(os.path.join(path, \"calendar.csv\"))\n",
    "selling_prices = pd.read_csv(os.path.join(path, \"sell_prices.csv\"))\n",
    "sample_submission = pd.read_csv(os.path.join(path, \"sample_submission.csv\"))"
   ]
  },
  {
   "cell_type": "code",
   "execution_count": 3,
   "metadata": {},
   "outputs": [],
   "source": [
    "sales = pd.read_csv(os.path.join(path, \"sales_train_validation.csv\"))"
   ]
  },
  {
   "cell_type": "markdown",
   "metadata": {},
   "source": [
    "## Describe and prepare data\n",
    "\n",
    "We will now go through all four data sets and prepare them for modelling."
   ]
  },
  {
   "cell_type": "markdown",
   "metadata": {},
   "source": [
    "### Calendar data\n",
    "\n",
    "For each date (covering both training and test data), we have access to useful calendar information."
   ]
  },
  {
   "cell_type": "code",
   "execution_count": 4,
   "metadata": {},
   "outputs": [
    {
     "data": {
      "text/html": [
       "<div>\n",
       "<style scoped>\n",
       "    .dataframe tbody tr th:only-of-type {\n",
       "        vertical-align: middle;\n",
       "    }\n",
       "\n",
       "    .dataframe tbody tr th {\n",
       "        vertical-align: top;\n",
       "    }\n",
       "\n",
       "    .dataframe thead th {\n",
       "        text-align: right;\n",
       "    }\n",
       "</style>\n",
       "<table border=\"1\" class=\"dataframe\">\n",
       "  <thead>\n",
       "    <tr style=\"text-align: right;\">\n",
       "      <th></th>\n",
       "      <th>date</th>\n",
       "      <th>wm_yr_wk</th>\n",
       "      <th>weekday</th>\n",
       "      <th>wday</th>\n",
       "      <th>month</th>\n",
       "      <th>year</th>\n",
       "      <th>d</th>\n",
       "      <th>event_name_1</th>\n",
       "      <th>event_type_1</th>\n",
       "      <th>event_name_2</th>\n",
       "      <th>event_type_2</th>\n",
       "      <th>snap_CA</th>\n",
       "      <th>snap_TX</th>\n",
       "      <th>snap_WI</th>\n",
       "    </tr>\n",
       "  </thead>\n",
       "  <tbody>\n",
       "    <tr>\n",
       "      <th>0</th>\n",
       "      <td>2011-01-29</td>\n",
       "      <td>11101</td>\n",
       "      <td>Saturday</td>\n",
       "      <td>1</td>\n",
       "      <td>1</td>\n",
       "      <td>2011</td>\n",
       "      <td>d_1</td>\n",
       "      <td>NaN</td>\n",
       "      <td>NaN</td>\n",
       "      <td>NaN</td>\n",
       "      <td>NaN</td>\n",
       "      <td>0</td>\n",
       "      <td>0</td>\n",
       "      <td>0</td>\n",
       "    </tr>\n",
       "    <tr>\n",
       "      <th>1</th>\n",
       "      <td>2011-01-30</td>\n",
       "      <td>11101</td>\n",
       "      <td>Sunday</td>\n",
       "      <td>2</td>\n",
       "      <td>1</td>\n",
       "      <td>2011</td>\n",
       "      <td>d_2</td>\n",
       "      <td>NaN</td>\n",
       "      <td>NaN</td>\n",
       "      <td>NaN</td>\n",
       "      <td>NaN</td>\n",
       "      <td>0</td>\n",
       "      <td>0</td>\n",
       "      <td>0</td>\n",
       "    </tr>\n",
       "    <tr>\n",
       "      <th>2</th>\n",
       "      <td>2011-01-31</td>\n",
       "      <td>11101</td>\n",
       "      <td>Monday</td>\n",
       "      <td>3</td>\n",
       "      <td>1</td>\n",
       "      <td>2011</td>\n",
       "      <td>d_3</td>\n",
       "      <td>NaN</td>\n",
       "      <td>NaN</td>\n",
       "      <td>NaN</td>\n",
       "      <td>NaN</td>\n",
       "      <td>0</td>\n",
       "      <td>0</td>\n",
       "      <td>0</td>\n",
       "    </tr>\n",
       "    <tr>\n",
       "      <th>3</th>\n",
       "      <td>2011-02-01</td>\n",
       "      <td>11101</td>\n",
       "      <td>Tuesday</td>\n",
       "      <td>4</td>\n",
       "      <td>2</td>\n",
       "      <td>2011</td>\n",
       "      <td>d_4</td>\n",
       "      <td>NaN</td>\n",
       "      <td>NaN</td>\n",
       "      <td>NaN</td>\n",
       "      <td>NaN</td>\n",
       "      <td>1</td>\n",
       "      <td>1</td>\n",
       "      <td>0</td>\n",
       "    </tr>\n",
       "    <tr>\n",
       "      <th>4</th>\n",
       "      <td>2011-02-02</td>\n",
       "      <td>11101</td>\n",
       "      <td>Wednesday</td>\n",
       "      <td>5</td>\n",
       "      <td>2</td>\n",
       "      <td>2011</td>\n",
       "      <td>d_5</td>\n",
       "      <td>NaN</td>\n",
       "      <td>NaN</td>\n",
       "      <td>NaN</td>\n",
       "      <td>NaN</td>\n",
       "      <td>1</td>\n",
       "      <td>0</td>\n",
       "      <td>1</td>\n",
       "    </tr>\n",
       "  </tbody>\n",
       "</table>\n",
       "</div>"
      ],
      "text/plain": [
       "         date  wm_yr_wk    weekday  wday  month  year    d event_name_1  \\\n",
       "0  2011-01-29     11101   Saturday     1      1  2011  d_1          NaN   \n",
       "1  2011-01-30     11101     Sunday     2      1  2011  d_2          NaN   \n",
       "2  2011-01-31     11101     Monday     3      1  2011  d_3          NaN   \n",
       "3  2011-02-01     11101    Tuesday     4      2  2011  d_4          NaN   \n",
       "4  2011-02-02     11101  Wednesday     5      2  2011  d_5          NaN   \n",
       "\n",
       "  event_type_1 event_name_2 event_type_2  snap_CA  snap_TX  snap_WI  \n",
       "0          NaN          NaN          NaN        0        0        0  \n",
       "1          NaN          NaN          NaN        0        0        0  \n",
       "2          NaN          NaN          NaN        0        0        0  \n",
       "3          NaN          NaN          NaN        1        1        0  \n",
       "4          NaN          NaN          NaN        1        0        1  "
      ]
     },
     "execution_count": 4,
     "metadata": {},
     "output_type": "execute_result"
    }
   ],
   "source": [
    "calendar.head()"
   ]
  },
  {
   "cell_type": "code",
   "execution_count": 5,
   "metadata": {},
   "outputs": [
    {
     "data": {
      "image/png": "[encoded data removed]",
      "text/plain": [
       "<Figure size 432x288 with 1 Axes>"
      ]
     },
     "metadata": {
      "needs_background": "light"
     },
     "output_type": "display_data"
    },
    {
     "data": {
      "image/png": "[encoded data removed]",
      "text/plain": [
       "<Figure size 432x288 with 1 Axes>"
      ]
     },
     "metadata": {
      "needs_background": "light"
     },
     "output_type": "display_data"
    },
    {
     "data": {
      "image/png": "[encoded data removed]",
      "text/plain": [
       "<Figure size 432x288 with 1 Axes>"
      ]
     },
     "metadata": {
      "needs_background": "light"
     },
     "output_type": "display_data"
    },
    {
     "data": {
      "image/png": "[encoded data removed]",
      "text/plain": [
       "<Figure size 432x288 with 1 Axes>"
      ]
     },
     "metadata": {
      "needs_background": "light"
     },
     "output_type": "display_data"
    },
    {
     "data": {
      "image/png": "[encoded data removed]",
      "text/plain": [
       "<Figure size 432x288 with 1 Axes>"
      ]
     },
     "metadata": {
      "needs_background": "light"
     },
     "output_type": "display_data"
    },
    {
     "data": {
      "image/png": "[encoded data removed]",
      "text/plain": [
       "<Figure size 432x288 with 1 Axes>"
      ]
     },
     "metadata": {
      "needs_background": "light"
     },
     "output_type": "display_data"
    },
    {
     "data": {
      "image/png": "[encoded data removed]",
      "text/plain": [
       "<Figure size 432x288 with 1 Axes>"
      ]
     },
     "metadata": {
      "needs_background": "light"
     },
     "output_type": "display_data"
    },
    {
     "data": {
      "image/png": "[encoded data removed]",
      "text/plain": [
       "<Figure size 432x288 with 1 Axes>"
      ]
     },
     "metadata": {
      "needs_background": "light"
     },
     "output_type": "display_data"
    },
    {
     "data": {
      "image/png": "[encoded data removed]",
      "text/plain": [
       "<Figure size 432x288 with 1 Axes>"
      ]
     },
     "metadata": {
      "needs_background": "light"
     },
     "output_type": "display_data"
    },
    {
     "data": {
      "image/png": "[encoded data removed]",
      "text/plain": [
       "<Figure size 432x288 with 1 Axes>"
      ]
     },
     "metadata": {
      "needs_background": "light"
     },
     "output_type": "display_data"
    }
   ],
   "source": [
    "for i, var in enumerate([\"year\", \"weekday\", \"month\", \"event_name_1\", \"event_name_2\", \n",
    "                         \"event_type_1\", \"event_type_2\", \"snap_CA\", \"snap_TX\", \"snap_WI\"]):\n",
    "    plt.figure()\n",
    "    g = sns.countplot(calendar[var])\n",
    "    g.set_xticklabels(g.get_xticklabels(), rotation=45)\n",
    "    g.set_title(var)"
   ]
  },
  {
   "cell_type": "code",
   "execution_count": 6,
   "metadata": {},
   "outputs": [],
   "source": [
    "from sklearn.preprocessing import OrdinalEncoder\n",
    "\n",
    "def prep_calendar(df):\n",
    "    temp = [\"wday\", \"month\", \"year\", \"event_name_1\", \"event_type_1\", \"event_name_2\", \n",
    "            \"event_type_2\", \"snap_CA\", \"snap_TX\", \"snap_WI\"]\n",
    "    df = df[[\"wm_yr_wk\", \"d\"] + temp]\n",
    "    df.fillna(\"missing\", inplace=True)\n",
    "    df[temp] = OrdinalEncoder().fit_transform(df[temp])\n",
    "    for v in temp:\n",
    "        df[temp] = df[temp].astype(\"uint8\")\n",
    "    df.wm_yr_wk = df.wm_yr_wk.astype(\"uint16\")\n",
    "    return df\n",
    "\n",
    "calendar = prep_calendar(calendar)"
   ]
  },
  {
   "cell_type": "code",
   "execution_count": 7,
   "metadata": {},
   "outputs": [
    {
     "name": "stdout",
     "output_type": "stream",
     "text": [
      "<class 'pandas.core.frame.DataFrame'>\n",
      "RangeIndex: 1969 entries, 0 to 1968\n",
      "Data columns (total 12 columns):\n",
      "wm_yr_wk        1969 non-null uint16\n",
      "d               1969 non-null object\n",
      "wday            1969 non-null uint8\n",
      "month           1969 non-null uint8\n",
      "year            1969 non-null uint8\n",
      "event_name_1    1969 non-null uint8\n",
      "event_type_1    1969 non-null uint8\n",
      "event_name_2    1969 non-null uint8\n",
      "event_type_2    1969 non-null uint8\n",
      "snap_CA         1969 non-null uint8\n",
      "snap_TX         1969 non-null uint8\n",
      "snap_WI         1969 non-null uint8\n",
      "dtypes: object(1), uint16(1), uint8(10)\n",
      "memory usage: 38.6+ KB\n"
     ]
    }
   ],
   "source": [
    "calendar.info()"
   ]
  },
  {
   "cell_type": "markdown",
   "metadata": {},
   "source": [
    "#### Notes for modeling\n",
    "\n",
    "**Features** deemed to be useful:\n",
    "\n",
    "- wday -> integer coding & embedding\n",
    "\n",
    "- year(?) -> integer coding & embedding\n",
    "\n",
    "- month(?) -> integer coding & embedding\n",
    "\n",
    "- \"event_name_1\", \"event_type_1\"\": simple imputer & integer coding & embedding\n",
    "\n",
    "**Reshape required**: No\n",
    "\n",
    "**Merge key(s)**: \"d\", \"wm_yr_wk\""
   ]
  },
  {
   "cell_type": "markdown",
   "metadata": {},
   "source": [
    "### Sales data\n",
    "\n",
    "Contains the number of sold items (= our response) as well as some categorical features."
   ]
  },
  {
   "cell_type": "code",
   "execution_count": 8,
   "metadata": {},
   "outputs": [
    {
     "data": {
      "text/html": [
       "<div>\n",
       "<style scoped>\n",
       "    .dataframe tbody tr th:only-of-type {\n",
       "        vertical-align: middle;\n",
       "    }\n",
       "\n",
       "    .dataframe tbody tr th {\n",
       "        vertical-align: top;\n",
       "    }\n",
       "\n",
       "    .dataframe thead th {\n",
       "        text-align: right;\n",
       "    }\n",
       "</style>\n",
       "<table border=\"1\" class=\"dataframe\">\n",
       "  <thead>\n",
       "    <tr style=\"text-align: right;\">\n",
       "      <th></th>\n",
       "      <th>id</th>\n",
       "      <th>item_id</th>\n",
       "      <th>dept_id</th>\n",
       "      <th>cat_id</th>\n",
       "      <th>store_id</th>\n",
       "      <th>state_id</th>\n",
       "      <th>d_1</th>\n",
       "      <th>d_2</th>\n",
       "      <th>d_3</th>\n",
       "      <th>d_4</th>\n",
       "      <th>...</th>\n",
       "      <th>d_1904</th>\n",
       "      <th>d_1905</th>\n",
       "      <th>d_1906</th>\n",
       "      <th>d_1907</th>\n",
       "      <th>d_1908</th>\n",
       "      <th>d_1909</th>\n",
       "      <th>d_1910</th>\n",
       "      <th>d_1911</th>\n",
       "      <th>d_1912</th>\n",
       "      <th>d_1913</th>\n",
       "    </tr>\n",
       "  </thead>\n",
       "  <tbody>\n",
       "    <tr>\n",
       "      <th>0</th>\n",
       "      <td>HOBBIES_1_001_CA_1_validation</td>\n",
       "      <td>HOBBIES_1_001</td>\n",
       "      <td>HOBBIES_1</td>\n",
       "      <td>HOBBIES</td>\n",
       "      <td>CA_1</td>\n",
       "      <td>CA</td>\n",
       "      <td>0</td>\n",
       "      <td>0</td>\n",
       "      <td>0</td>\n",
       "      <td>0</td>\n",
       "      <td>...</td>\n",
       "      <td>1</td>\n",
       "      <td>3</td>\n",
       "      <td>0</td>\n",
       "      <td>1</td>\n",
       "      <td>1</td>\n",
       "      <td>1</td>\n",
       "      <td>3</td>\n",
       "      <td>0</td>\n",
       "      <td>1</td>\n",
       "      <td>1</td>\n",
       "    </tr>\n",
       "    <tr>\n",
       "      <th>1</th>\n",
       "      <td>HOBBIES_1_002_CA_1_validation</td>\n",
       "      <td>HOBBIES_1_002</td>\n",
       "      <td>HOBBIES_1</td>\n",
       "      <td>HOBBIES</td>\n",
       "      <td>CA_1</td>\n",
       "      <td>CA</td>\n",
       "      <td>0</td>\n",
       "      <td>0</td>\n",
       "      <td>0</td>\n",
       "      <td>0</td>\n",
       "      <td>...</td>\n",
       "      <td>0</td>\n",
       "      <td>0</td>\n",
       "      <td>0</td>\n",
       "      <td>0</td>\n",
       "      <td>0</td>\n",
       "      <td>1</td>\n",
       "      <td>0</td>\n",
       "      <td>0</td>\n",
       "      <td>0</td>\n",
       "      <td>0</td>\n",
       "    </tr>\n",
       "    <tr>\n",
       "      <th>2</th>\n",
       "      <td>HOBBIES_1_003_CA_1_validation</td>\n",
       "      <td>HOBBIES_1_003</td>\n",
       "      <td>HOBBIES_1</td>\n",
       "      <td>HOBBIES</td>\n",
       "      <td>CA_1</td>\n",
       "      <td>CA</td>\n",
       "      <td>0</td>\n",
       "      <td>0</td>\n",
       "      <td>0</td>\n",
       "      <td>0</td>\n",
       "      <td>...</td>\n",
       "      <td>2</td>\n",
       "      <td>1</td>\n",
       "      <td>2</td>\n",
       "      <td>1</td>\n",
       "      <td>1</td>\n",
       "      <td>1</td>\n",
       "      <td>0</td>\n",
       "      <td>1</td>\n",
       "      <td>1</td>\n",
       "      <td>1</td>\n",
       "    </tr>\n",
       "    <tr>\n",
       "      <th>3</th>\n",
       "      <td>HOBBIES_1_004_CA_1_validation</td>\n",
       "      <td>HOBBIES_1_004</td>\n",
       "      <td>HOBBIES_1</td>\n",
       "      <td>HOBBIES</td>\n",
       "      <td>CA_1</td>\n",
       "      <td>CA</td>\n",
       "      <td>0</td>\n",
       "      <td>0</td>\n",
       "      <td>0</td>\n",
       "      <td>0</td>\n",
       "      <td>...</td>\n",
       "      <td>1</td>\n",
       "      <td>0</td>\n",
       "      <td>5</td>\n",
       "      <td>4</td>\n",
       "      <td>1</td>\n",
       "      <td>0</td>\n",
       "      <td>1</td>\n",
       "      <td>3</td>\n",
       "      <td>7</td>\n",
       "      <td>2</td>\n",
       "    </tr>\n",
       "    <tr>\n",
       "      <th>4</th>\n",
       "      <td>HOBBIES_1_005_CA_1_validation</td>\n",
       "      <td>HOBBIES_1_005</td>\n",
       "      <td>HOBBIES_1</td>\n",
       "      <td>HOBBIES</td>\n",
       "      <td>CA_1</td>\n",
       "      <td>CA</td>\n",
       "      <td>0</td>\n",
       "      <td>0</td>\n",
       "      <td>0</td>\n",
       "      <td>0</td>\n",
       "      <td>...</td>\n",
       "      <td>2</td>\n",
       "      <td>1</td>\n",
       "      <td>1</td>\n",
       "      <td>0</td>\n",
       "      <td>1</td>\n",
       "      <td>1</td>\n",
       "      <td>2</td>\n",
       "      <td>2</td>\n",
       "      <td>2</td>\n",
       "      <td>4</td>\n",
       "    </tr>\n",
       "  </tbody>\n",
       "</table>\n",
       "<p>5 rows × 1919 columns</p>\n",
       "</div>"
      ],
      "text/plain": [
       "                              id        item_id    dept_id   cat_id store_id  \\\n",
       "0  HOBBIES_1_001_CA_1_validation  HOBBIES_1_001  HOBBIES_1  HOBBIES     CA_1   \n",
       "1  HOBBIES_1_002_CA_1_validation  HOBBIES_1_002  HOBBIES_1  HOBBIES     CA_1   \n",
       "2  HOBBIES_1_003_CA_1_validation  HOBBIES_1_003  HOBBIES_1  HOBBIES     CA_1   \n",
       "3  HOBBIES_1_004_CA_1_validation  HOBBIES_1_004  HOBBIES_1  HOBBIES     CA_1   \n",
       "4  HOBBIES_1_005_CA_1_validation  HOBBIES_1_005  HOBBIES_1  HOBBIES     CA_1   \n",
       "\n",
       "  state_id  d_1  d_2  d_3  d_4  ...  d_1904  d_1905  d_1906  d_1907  d_1908  \\\n",
       "0       CA    0    0    0    0  ...       1       3       0       1       1   \n",
       "1       CA    0    0    0    0  ...       0       0       0       0       0   \n",
       "2       CA    0    0    0    0  ...       2       1       2       1       1   \n",
       "3       CA    0    0    0    0  ...       1       0       5       4       1   \n",
       "4       CA    0    0    0    0  ...       2       1       1       0       1   \n",
       "\n",
       "   d_1909  d_1910  d_1911  d_1912  d_1913  \n",
       "0       1       3       0       1       1  \n",
       "1       1       0       0       0       0  \n",
       "2       1       0       1       1       1  \n",
       "3       0       1       3       7       2  \n",
       "4       1       2       2       2       4  \n",
       "\n",
       "[5 rows x 1919 columns]"
      ]
     },
     "execution_count": 8,
     "metadata": {},
     "output_type": "execute_result"
    }
   ],
   "source": [
    "sales.head()"
   ]
  },
  {
   "cell_type": "code",
   "execution_count": 9,
   "metadata": {},
   "outputs": [
    {
     "data": {
      "image/png": "[encoded data removed]",
      "text/plain": [
       "<Figure size 432x288 with 1 Axes>"
      ]
     },
     "metadata": {
      "needs_background": "light"
     },
     "output_type": "display_data"
    },
    {
     "data": {
      "image/png": "[encoded data removed]",
      "text/plain": [
       "<Figure size 432x288 with 1 Axes>"
      ]
     },
     "metadata": {
      "needs_background": "light"
     },
     "output_type": "display_data"
    },
    {
     "data": {
      "image/png": "[encoded data removed]",
      "text/plain": [
       "<Figure size 432x288 with 1 Axes>"
      ]
     },
     "metadata": {
      "needs_background": "light"
     },
     "output_type": "display_data"
    },
    {
     "data": {
      "image/png": "[encoded data removed]",
      "text/plain": [
       "<Figure size 432x288 with 1 Axes>"
      ]
     },
     "metadata": {
      "needs_background": "light"
     },
     "output_type": "display_data"
    }
   ],
   "source": [
    "for i, var in enumerate([\"state_id\", \"store_id\", \"cat_id\", \"dept_id\"]):\n",
    "    plt.figure()\n",
    "    g = sns.countplot(sales[var])\n",
    "    g.set_xticklabels(g.get_xticklabels(), rotation=45)\n",
    "    g.set_title(var)"
   ]
  },
  {
   "cell_type": "code",
   "execution_count": 10,
   "metadata": {},
   "outputs": [
    {
     "data": {
      "text/plain": [
       "HOUSEHOLD_2_081    10\n",
       "HOUSEHOLD_1_164    10\n",
       "FOODS_1_109        10\n",
       "FOODS_3_718        10\n",
       "HOUSEHOLD_1_251    10\n",
       "                   ..\n",
       "HOUSEHOLD_2_398    10\n",
       "FOODS_3_119        10\n",
       "FOODS_1_169        10\n",
       "HOBBIES_1_285      10\n",
       "FOODS_2_367        10\n",
       "Name: item_id, Length: 3049, dtype: int64"
      ]
     },
     "execution_count": 10,
     "metadata": {},
     "output_type": "execute_result"
    }
   ],
   "source": [
    "sales.item_id.value_counts()"
   ]
  },
  {
   "cell_type": "markdown",
   "metadata": {},
   "source": [
    "#### Drop dates to save space. Offline, this is not required."
   ]
  },
  {
   "cell_type": "code",
   "execution_count": 11,
   "metadata": {},
   "outputs": [],
   "source": [
    "sales.drop([\"d_\" + str(i+1) for i in range(800)], axis=1, inplace=True)"
   ]
  },
  {
   "cell_type": "markdown",
   "metadata": {},
   "source": [
    "#### Reshaping\n",
    "\n",
    "We now reshape the data from wide to long, using \"id\" as fixed and swapping \"d_x\" columns. "
   ]
  },
  {
   "cell_type": "code",
   "execution_count": 12,
   "metadata": {},
   "outputs": [],
   "source": [
    "def melt_sales(df):\n",
    "    df = df.drop([\"item_id\", \"dept_id\", \"cat_id\", \"store_id\", \"state_id\"], axis=1).melt(\n",
    "        id_vars=['id'], var_name='d', value_name='demand')\n",
    "    return df\n",
    "\n",
    "sales = melt_sales(sales)"
   ]
  },
  {
   "cell_type": "code",
   "execution_count": 13,
   "metadata": {},
   "outputs": [
    {
     "data": {
      "text/html": [
       "<div>\n",
       "<style scoped>\n",
       "    .dataframe tbody tr th:only-of-type {\n",
       "        vertical-align: middle;\n",
       "    }\n",
       "\n",
       "    .dataframe tbody tr th {\n",
       "        vertical-align: top;\n",
       "    }\n",
       "\n",
       "    .dataframe thead th {\n",
       "        text-align: right;\n",
       "    }\n",
       "</style>\n",
       "<table border=\"1\" class=\"dataframe\">\n",
       "  <thead>\n",
       "    <tr style=\"text-align: right;\">\n",
       "      <th></th>\n",
       "      <th>id</th>\n",
       "      <th>d</th>\n",
       "      <th>demand</th>\n",
       "    </tr>\n",
       "  </thead>\n",
       "  <tbody>\n",
       "    <tr>\n",
       "      <th>0</th>\n",
       "      <td>HOBBIES_1_001_CA_1_validation</td>\n",
       "      <td>d_801</td>\n",
       "      <td>0</td>\n",
       "    </tr>\n",
       "    <tr>\n",
       "      <th>1</th>\n",
       "      <td>HOBBIES_1_002_CA_1_validation</td>\n",
       "      <td>d_801</td>\n",
       "      <td>0</td>\n",
       "    </tr>\n",
       "    <tr>\n",
       "      <th>2</th>\n",
       "      <td>HOBBIES_1_003_CA_1_validation</td>\n",
       "      <td>d_801</td>\n",
       "      <td>0</td>\n",
       "    </tr>\n",
       "    <tr>\n",
       "      <th>3</th>\n",
       "      <td>HOBBIES_1_004_CA_1_validation</td>\n",
       "      <td>d_801</td>\n",
       "      <td>0</td>\n",
       "    </tr>\n",
       "    <tr>\n",
       "      <th>4</th>\n",
       "      <td>HOBBIES_1_005_CA_1_validation</td>\n",
       "      <td>d_801</td>\n",
       "      <td>0</td>\n",
       "    </tr>\n",
       "  </tbody>\n",
       "</table>\n",
       "</div>"
      ],
      "text/plain": [
       "                              id      d  demand\n",
       "0  HOBBIES_1_001_CA_1_validation  d_801       0\n",
       "1  HOBBIES_1_002_CA_1_validation  d_801       0\n",
       "2  HOBBIES_1_003_CA_1_validation  d_801       0\n",
       "3  HOBBIES_1_004_CA_1_validation  d_801       0\n",
       "4  HOBBIES_1_005_CA_1_validation  d_801       0"
      ]
     },
     "execution_count": 13,
     "metadata": {},
     "output_type": "execute_result"
    }
   ],
   "source": [
    "sales.head()"
   ]
  },
  {
   "cell_type": "markdown",
   "metadata": {},
   "source": [
    "#### Distribution of the response"
   ]
  },
  {
   "cell_type": "code",
   "execution_count": 14,
   "metadata": {},
   "outputs": [
    {
     "data": {
      "image/png": "[encoded data removed]",
      "text/plain": [
       "<Figure size 432x288 with 1 Axes>"
      ]
     },
     "metadata": {
      "needs_background": "light"
     },
     "output_type": "display_data"
    }
   ],
   "source": [
    "sns.countplot(sales[\"demand\"][sales[\"demand\"] <= 20], );"
   ]
  },
  {
   "cell_type": "markdown",
   "metadata": {},
   "source": [
    "#### Add reshaped submission file\n",
    "\n",
    "So that it sneaks through data preprocessing easily."
   ]
  },
  {
   "cell_type": "code",
   "execution_count": 15,
   "metadata": {},
   "outputs": [
    {
     "data": {
      "text/html": [
       "<div>\n",
       "<style scoped>\n",
       "    .dataframe tbody tr th:only-of-type {\n",
       "        vertical-align: middle;\n",
       "    }\n",
       "\n",
       "    .dataframe tbody tr th {\n",
       "        vertical-align: top;\n",
       "    }\n",
       "\n",
       "    .dataframe thead th {\n",
       "        text-align: right;\n",
       "    }\n",
       "</style>\n",
       "<table border=\"1\" class=\"dataframe\">\n",
       "  <thead>\n",
       "    <tr style=\"text-align: right;\">\n",
       "      <th></th>\n",
       "      <th>id</th>\n",
       "      <th>F1</th>\n",
       "      <th>F2</th>\n",
       "      <th>F3</th>\n",
       "      <th>F4</th>\n",
       "      <th>F5</th>\n",
       "      <th>F6</th>\n",
       "      <th>F7</th>\n",
       "      <th>F8</th>\n",
       "      <th>F9</th>\n",
       "      <th>...</th>\n",
       "      <th>F19</th>\n",
       "      <th>F20</th>\n",
       "      <th>F21</th>\n",
       "      <th>F22</th>\n",
       "      <th>F23</th>\n",
       "      <th>F24</th>\n",
       "      <th>F25</th>\n",
       "      <th>F26</th>\n",
       "      <th>F27</th>\n",
       "      <th>F28</th>\n",
       "    </tr>\n",
       "  </thead>\n",
       "  <tbody>\n",
       "    <tr>\n",
       "      <th>0</th>\n",
       "      <td>HOBBIES_1_001_CA_1_validation</td>\n",
       "      <td>0</td>\n",
       "      <td>0</td>\n",
       "      <td>0</td>\n",
       "      <td>0</td>\n",
       "      <td>0</td>\n",
       "      <td>0</td>\n",
       "      <td>0</td>\n",
       "      <td>0</td>\n",
       "      <td>0</td>\n",
       "      <td>...</td>\n",
       "      <td>0</td>\n",
       "      <td>0</td>\n",
       "      <td>0</td>\n",
       "      <td>0</td>\n",
       "      <td>0</td>\n",
       "      <td>0</td>\n",
       "      <td>0</td>\n",
       "      <td>0</td>\n",
       "      <td>0</td>\n",
       "      <td>0</td>\n",
       "    </tr>\n",
       "    <tr>\n",
       "      <th>1</th>\n",
       "      <td>HOBBIES_1_002_CA_1_validation</td>\n",
       "      <td>0</td>\n",
       "      <td>0</td>\n",
       "      <td>0</td>\n",
       "      <td>0</td>\n",
       "      <td>0</td>\n",
       "      <td>0</td>\n",
       "      <td>0</td>\n",
       "      <td>0</td>\n",
       "      <td>0</td>\n",
       "      <td>...</td>\n",
       "      <td>0</td>\n",
       "      <td>0</td>\n",
       "      <td>0</td>\n",
       "      <td>0</td>\n",
       "      <td>0</td>\n",
       "      <td>0</td>\n",
       "      <td>0</td>\n",
       "      <td>0</td>\n",
       "      <td>0</td>\n",
       "      <td>0</td>\n",
       "    </tr>\n",
       "    <tr>\n",
       "      <th>2</th>\n",
       "      <td>HOBBIES_1_003_CA_1_validation</td>\n",
       "      <td>0</td>\n",
       "      <td>0</td>\n",
       "      <td>0</td>\n",
       "      <td>0</td>\n",
       "      <td>0</td>\n",
       "      <td>0</td>\n",
       "      <td>0</td>\n",
       "      <td>0</td>\n",
       "      <td>0</td>\n",
       "      <td>...</td>\n",
       "      <td>0</td>\n",
       "      <td>0</td>\n",
       "      <td>0</td>\n",
       "      <td>0</td>\n",
       "      <td>0</td>\n",
       "      <td>0</td>\n",
       "      <td>0</td>\n",
       "      <td>0</td>\n",
       "      <td>0</td>\n",
       "      <td>0</td>\n",
       "    </tr>\n",
       "    <tr>\n",
       "      <th>3</th>\n",
       "      <td>HOBBIES_1_004_CA_1_validation</td>\n",
       "      <td>0</td>\n",
       "      <td>0</td>\n",
       "      <td>0</td>\n",
       "      <td>0</td>\n",
       "      <td>0</td>\n",
       "      <td>0</td>\n",
       "      <td>0</td>\n",
       "      <td>0</td>\n",
       "      <td>0</td>\n",
       "      <td>...</td>\n",
       "      <td>0</td>\n",
       "      <td>0</td>\n",
       "      <td>0</td>\n",
       "      <td>0</td>\n",
       "      <td>0</td>\n",
       "      <td>0</td>\n",
       "      <td>0</td>\n",
       "      <td>0</td>\n",
       "      <td>0</td>\n",
       "      <td>0</td>\n",
       "    </tr>\n",
       "    <tr>\n",
       "      <th>4</th>\n",
       "      <td>HOBBIES_1_005_CA_1_validation</td>\n",
       "      <td>0</td>\n",
       "      <td>0</td>\n",
       "      <td>0</td>\n",
       "      <td>0</td>\n",
       "      <td>0</td>\n",
       "      <td>0</td>\n",
       "      <td>0</td>\n",
       "      <td>0</td>\n",
       "      <td>0</td>\n",
       "      <td>...</td>\n",
       "      <td>0</td>\n",
       "      <td>0</td>\n",
       "      <td>0</td>\n",
       "      <td>0</td>\n",
       "      <td>0</td>\n",
       "      <td>0</td>\n",
       "      <td>0</td>\n",
       "      <td>0</td>\n",
       "      <td>0</td>\n",
       "      <td>0</td>\n",
       "    </tr>\n",
       "  </tbody>\n",
       "</table>\n",
       "<p>5 rows × 29 columns</p>\n",
       "</div>"
      ],
      "text/plain": [
       "                              id  F1  F2  F3  F4  F5  F6  F7  F8  F9  ...  \\\n",
       "0  HOBBIES_1_001_CA_1_validation   0   0   0   0   0   0   0   0   0  ...   \n",
       "1  HOBBIES_1_002_CA_1_validation   0   0   0   0   0   0   0   0   0  ...   \n",
       "2  HOBBIES_1_003_CA_1_validation   0   0   0   0   0   0   0   0   0  ...   \n",
       "3  HOBBIES_1_004_CA_1_validation   0   0   0   0   0   0   0   0   0  ...   \n",
       "4  HOBBIES_1_005_CA_1_validation   0   0   0   0   0   0   0   0   0  ...   \n",
       "\n",
       "   F19  F20  F21  F22  F23  F24  F25  F26  F27  F28  \n",
       "0    0    0    0    0    0    0    0    0    0    0  \n",
       "1    0    0    0    0    0    0    0    0    0    0  \n",
       "2    0    0    0    0    0    0    0    0    0    0  \n",
       "3    0    0    0    0    0    0    0    0    0    0  \n",
       "4    0    0    0    0    0    0    0    0    0    0  \n",
       "\n",
       "[5 rows x 29 columns]"
      ]
     },
     "execution_count": 15,
     "metadata": {},
     "output_type": "execute_result"
    }
   ],
   "source": [
    "sample_submission.head()"
   ]
  },
  {
   "cell_type": "code",
   "execution_count": 16,
   "metadata": {},
   "outputs": [
    {
     "data": {
      "text/plain": [
       "0    d_1914\n",
       "1    d_1915\n",
       "2    d_1941\n",
       "3    d_1942\n",
       "4    d_1943\n",
       "5    d_1969\n",
       "dtype: object"
      ]
     },
     "execution_count": 16,
     "metadata": {},
     "output_type": "execute_result"
    }
   ],
   "source": [
    "# Turn strings like \"F1\" to \"d_1914\"\n",
    "def map_f2d(d_col, id_col):\n",
    "    eval_flag = id_col.str.endswith(\"evaluation\")\n",
    "    return \"d_\" + (d_col.str[1:].astype(\"int\") + 1913 + 28 * eval_flag).astype(\"str\")\n",
    "\n",
    "# Reverse\n",
    "def map_d2f(d_col, id_col):\n",
    "    eval_flag = id_col.str.endswith(\"evaluation\")\n",
    "    return \"F\" + (d_col.str[2:].astype(\"int\") - 1913 - 28 * eval_flag).astype(\"str\")\n",
    "\n",
    "# Example\n",
    "map_f2d(pd.Series([\"F1\", \"F2\", \"F28\", \"F1\", \"F2\", \"F28\"]), \n",
    "        pd.Series([\"validation\", \"validation\", \"validation\", \"evaluation\", \"evaluation\", \"evaluation\"]))"
   ]
  },
  {
   "cell_type": "code",
   "execution_count": 17,
   "metadata": {},
   "outputs": [
    {
     "data": {
      "text/html": [
       "<div>\n",
       "<style scoped>\n",
       "    .dataframe tbody tr th:only-of-type {\n",
       "        vertical-align: middle;\n",
       "    }\n",
       "\n",
       "    .dataframe tbody tr th {\n",
       "        vertical-align: top;\n",
       "    }\n",
       "\n",
       "    .dataframe thead th {\n",
       "        text-align: right;\n",
       "    }\n",
       "</style>\n",
       "<table border=\"1\" class=\"dataframe\">\n",
       "  <thead>\n",
       "    <tr style=\"text-align: right;\">\n",
       "      <th></th>\n",
       "      <th>id</th>\n",
       "      <th>d</th>\n",
       "      <th>demand</th>\n",
       "    </tr>\n",
       "  </thead>\n",
       "  <tbody>\n",
       "    <tr>\n",
       "      <th>0</th>\n",
       "      <td>HOBBIES_1_001_CA_1_validation</td>\n",
       "      <td>d_1914</td>\n",
       "      <td>NaN</td>\n",
       "    </tr>\n",
       "    <tr>\n",
       "      <th>1</th>\n",
       "      <td>HOBBIES_1_002_CA_1_validation</td>\n",
       "      <td>d_1914</td>\n",
       "      <td>NaN</td>\n",
       "    </tr>\n",
       "    <tr>\n",
       "      <th>2</th>\n",
       "      <td>HOBBIES_1_003_CA_1_validation</td>\n",
       "      <td>d_1914</td>\n",
       "      <td>NaN</td>\n",
       "    </tr>\n",
       "    <tr>\n",
       "      <th>3</th>\n",
       "      <td>HOBBIES_1_004_CA_1_validation</td>\n",
       "      <td>d_1914</td>\n",
       "      <td>NaN</td>\n",
       "    </tr>\n",
       "    <tr>\n",
       "      <th>4</th>\n",
       "      <td>HOBBIES_1_005_CA_1_validation</td>\n",
       "      <td>d_1914</td>\n",
       "      <td>NaN</td>\n",
       "    </tr>\n",
       "  </tbody>\n",
       "</table>\n",
       "</div>"
      ],
      "text/plain": [
       "                              id       d  demand\n",
       "0  HOBBIES_1_001_CA_1_validation  d_1914     NaN\n",
       "1  HOBBIES_1_002_CA_1_validation  d_1914     NaN\n",
       "2  HOBBIES_1_003_CA_1_validation  d_1914     NaN\n",
       "3  HOBBIES_1_004_CA_1_validation  d_1914     NaN\n",
       "4  HOBBIES_1_005_CA_1_validation  d_1914     NaN"
      ]
     },
     "execution_count": 17,
     "metadata": {},
     "output_type": "execute_result"
    }
   ],
   "source": [
    "submission = sample_submission.melt(id_vars=\"id\", var_name=\"d\", value_name=\"demand\").assign(\n",
    "    demand=np.nan,\n",
    "    d = lambda df: map_f2d(df.d, df.id))\n",
    "submission.head()"
   ]
  },
  {
   "cell_type": "code",
   "execution_count": 18,
   "metadata": {},
   "outputs": [
    {
     "data": {
      "text/html": [
       "<div>\n",
       "<style scoped>\n",
       "    .dataframe tbody tr th:only-of-type {\n",
       "        vertical-align: middle;\n",
       "    }\n",
       "\n",
       "    .dataframe tbody tr th {\n",
       "        vertical-align: top;\n",
       "    }\n",
       "\n",
       "    .dataframe thead th {\n",
       "        text-align: right;\n",
       "    }\n",
       "</style>\n",
       "<table border=\"1\" class=\"dataframe\">\n",
       "  <thead>\n",
       "    <tr style=\"text-align: right;\">\n",
       "      <th></th>\n",
       "      <th>id</th>\n",
       "      <th>d</th>\n",
       "      <th>demand</th>\n",
       "    </tr>\n",
       "  </thead>\n",
       "  <tbody>\n",
       "    <tr>\n",
       "      <th>1707435</th>\n",
       "      <td>FOODS_3_823_WI_3_evaluation</td>\n",
       "      <td>d_1969</td>\n",
       "      <td>NaN</td>\n",
       "    </tr>\n",
       "    <tr>\n",
       "      <th>1707436</th>\n",
       "      <td>FOODS_3_824_WI_3_evaluation</td>\n",
       "      <td>d_1969</td>\n",
       "      <td>NaN</td>\n",
       "    </tr>\n",
       "    <tr>\n",
       "      <th>1707437</th>\n",
       "      <td>FOODS_3_825_WI_3_evaluation</td>\n",
       "      <td>d_1969</td>\n",
       "      <td>NaN</td>\n",
       "    </tr>\n",
       "    <tr>\n",
       "      <th>1707438</th>\n",
       "      <td>FOODS_3_826_WI_3_evaluation</td>\n",
       "      <td>d_1969</td>\n",
       "      <td>NaN</td>\n",
       "    </tr>\n",
       "    <tr>\n",
       "      <th>1707439</th>\n",
       "      <td>FOODS_3_827_WI_3_evaluation</td>\n",
       "      <td>d_1969</td>\n",
       "      <td>NaN</td>\n",
       "    </tr>\n",
       "  </tbody>\n",
       "</table>\n",
       "</div>"
      ],
      "text/plain": [
       "                                  id       d  demand\n",
       "1707435  FOODS_3_823_WI_3_evaluation  d_1969     NaN\n",
       "1707436  FOODS_3_824_WI_3_evaluation  d_1969     NaN\n",
       "1707437  FOODS_3_825_WI_3_evaluation  d_1969     NaN\n",
       "1707438  FOODS_3_826_WI_3_evaluation  d_1969     NaN\n",
       "1707439  FOODS_3_827_WI_3_evaluation  d_1969     NaN"
      ]
     },
     "execution_count": 18,
     "metadata": {},
     "output_type": "execute_result"
    }
   ],
   "source": [
    "sales = pd.concat([sales, submission])\n",
    "sales.tail()"
   ]
  },
  {
   "cell_type": "markdown",
   "metadata": {},
   "source": [
    "#### Change \"evaluation\" to \"validation\"..."
   ]
  },
  {
   "cell_type": "code",
   "execution_count": 19,
   "metadata": {},
   "outputs": [],
   "source": [
    "sales.id = sales.id.str.replace(\"evaluation\", \"validation\")"
   ]
  },
  {
   "cell_type": "markdown",
   "metadata": {},
   "source": [
    "#### Add lag info\n",
    "\n",
    "We use some lagged features similar to https://www.kaggle.com/ragnar123/very-fst-model, but shifted by 56 instead of 28 days. Furthermore, we work with log values.\n",
    "\n",
    "Furthermore, we remove the first 800 days to save space. In offline mode, we can use all rows."
   ]
  },
  {
   "cell_type": "code",
   "execution_count": 20,
   "metadata": {},
   "outputs": [],
   "source": [
    "from sklearn.preprocessing import StandardScaler\n",
    "\n",
    "def add_lagged_features(df):\n",
    "    df['lag_t56'] = df.groupby('id')['demand'].transform(lambda x: np.log1p(x).shift(56))\n",
    "    df['rolling_mean_t30'] = df.groupby('id')['demand'].transform(lambda x: np.log1p(x).shift(56).rolling(30, min_periods=1).mean())\n",
    "    df['cummean'] = df.groupby('id')['demand'].transform(lambda x: x.shift(1).expanding().mean())\n",
    "    temp = ['lag_t56', 'rolling_mean_t30', 'cummean']\n",
    "    df.dropna(subset=temp, inplace=True)    \n",
    "    df[temp] = StandardScaler().fit_transform(df[temp])\n",
    "    for v in temp:\n",
    "        df[v] = df[v].astype(\"float32\")\n",
    "    return df\n",
    "\n",
    "sales = add_lagged_features(sales)"
   ]
  },
  {
   "cell_type": "code",
   "execution_count": 21,
   "metadata": {},
   "outputs": [
    {
     "data": {
      "text/html": [
       "<div>\n",
       "<style scoped>\n",
       "    .dataframe tbody tr th:only-of-type {\n",
       "        vertical-align: middle;\n",
       "    }\n",
       "\n",
       "    .dataframe tbody tr th {\n",
       "        vertical-align: top;\n",
       "    }\n",
       "\n",
       "    .dataframe thead th {\n",
       "        text-align: right;\n",
       "    }\n",
       "</style>\n",
       "<table border=\"1\" class=\"dataframe\">\n",
       "  <thead>\n",
       "    <tr style=\"text-align: right;\">\n",
       "      <th></th>\n",
       "      <th>id</th>\n",
       "      <th>d</th>\n",
       "      <th>demand</th>\n",
       "      <th>lag_t56</th>\n",
       "      <th>rolling_mean_t30</th>\n",
       "      <th>cummean</th>\n",
       "    </tr>\n",
       "  </thead>\n",
       "  <tbody>\n",
       "    <tr>\n",
       "      <th>1707440</th>\n",
       "      <td>HOBBIES_1_001_CA_1_validation</td>\n",
       "      <td>d_857</td>\n",
       "      <td>0.0</td>\n",
       "      <td>-0.634819</td>\n",
       "      <td>-0.823925</td>\n",
       "      <td>-0.396836</td>\n",
       "    </tr>\n",
       "    <tr>\n",
       "      <th>1707441</th>\n",
       "      <td>HOBBIES_1_002_CA_1_validation</td>\n",
       "      <td>d_857</td>\n",
       "      <td>1.0</td>\n",
       "      <td>-0.634819</td>\n",
       "      <td>-0.823925</td>\n",
       "      <td>-0.331548</td>\n",
       "    </tr>\n",
       "    <tr>\n",
       "      <th>1707442</th>\n",
       "      <td>HOBBIES_1_003_CA_1_validation</td>\n",
       "      <td>d_857</td>\n",
       "      <td>0.0</td>\n",
       "      <td>-0.634819</td>\n",
       "      <td>-0.823925</td>\n",
       "      <td>-0.396836</td>\n",
       "    </tr>\n",
       "    <tr>\n",
       "      <th>1707443</th>\n",
       "      <td>HOBBIES_1_004_CA_1_validation</td>\n",
       "      <td>d_857</td>\n",
       "      <td>0.0</td>\n",
       "      <td>-0.634819</td>\n",
       "      <td>-0.823925</td>\n",
       "      <td>0.161084</td>\n",
       "    </tr>\n",
       "    <tr>\n",
       "      <th>1707444</th>\n",
       "      <td>HOBBIES_1_005_CA_1_validation</td>\n",
       "      <td>d_857</td>\n",
       "      <td>0.0</td>\n",
       "      <td>-0.634819</td>\n",
       "      <td>-0.823925</td>\n",
       "      <td>-0.106005</td>\n",
       "    </tr>\n",
       "  </tbody>\n",
       "</table>\n",
       "</div>"
      ],
      "text/plain": [
       "                                    id      d  demand   lag_t56  \\\n",
       "1707440  HOBBIES_1_001_CA_1_validation  d_857     0.0 -0.634819   \n",
       "1707441  HOBBIES_1_002_CA_1_validation  d_857     1.0 -0.634819   \n",
       "1707442  HOBBIES_1_003_CA_1_validation  d_857     0.0 -0.634819   \n",
       "1707443  HOBBIES_1_004_CA_1_validation  d_857     0.0 -0.634819   \n",
       "1707444  HOBBIES_1_005_CA_1_validation  d_857     0.0 -0.634819   \n",
       "\n",
       "         rolling_mean_t30   cummean  \n",
       "1707440         -0.823925 -0.396836  \n",
       "1707441         -0.823925 -0.331548  \n",
       "1707442         -0.823925 -0.396836  \n",
       "1707443         -0.823925  0.161084  \n",
       "1707444         -0.823925 -0.106005  "
      ]
     },
     "execution_count": 21,
     "metadata": {},
     "output_type": "execute_result"
    }
   ],
   "source": [
    "sales.head()"
   ]
  },
  {
   "cell_type": "code",
   "execution_count": 22,
   "metadata": {},
   "outputs": [
    {
     "data": {
      "text/plain": [
       "0"
      ]
     },
     "execution_count": 22,
     "metadata": {},
     "output_type": "execute_result"
    }
   ],
   "source": [
    "gc.collect()"
   ]
  },
  {
   "cell_type": "markdown",
   "metadata": {},
   "source": [
    "#### Add relevant id information\n",
    "\n",
    "After combination of training and test data, we can join further info."
   ]
  },
  {
   "cell_type": "code",
   "execution_count": 23,
   "metadata": {},
   "outputs": [
    {
     "data": {
      "text/html": [
       "<div>\n",
       "<style scoped>\n",
       "    .dataframe tbody tr th:only-of-type {\n",
       "        vertical-align: middle;\n",
       "    }\n",
       "\n",
       "    .dataframe tbody tr th {\n",
       "        vertical-align: top;\n",
       "    }\n",
       "\n",
       "    .dataframe thead th {\n",
       "        text-align: right;\n",
       "    }\n",
       "</style>\n",
       "<table border=\"1\" class=\"dataframe\">\n",
       "  <thead>\n",
       "    <tr style=\"text-align: right;\">\n",
       "      <th></th>\n",
       "      <th>dept_id</th>\n",
       "      <th>item_id</th>\n",
       "      <th>store_id</th>\n",
       "    </tr>\n",
       "  </thead>\n",
       "  <tbody>\n",
       "    <tr>\n",
       "      <th>1707440</th>\n",
       "      <td>HOBBIES_1</td>\n",
       "      <td>HOBBIES_1_001</td>\n",
       "      <td>CA_1</td>\n",
       "    </tr>\n",
       "    <tr>\n",
       "      <th>1707441</th>\n",
       "      <td>HOBBIES_1</td>\n",
       "      <td>HOBBIES_1_002</td>\n",
       "      <td>CA_1</td>\n",
       "    </tr>\n",
       "    <tr>\n",
       "      <th>1707442</th>\n",
       "      <td>HOBBIES_1</td>\n",
       "      <td>HOBBIES_1_003</td>\n",
       "      <td>CA_1</td>\n",
       "    </tr>\n",
       "    <tr>\n",
       "      <th>1707443</th>\n",
       "      <td>HOBBIES_1</td>\n",
       "      <td>HOBBIES_1_004</td>\n",
       "      <td>CA_1</td>\n",
       "    </tr>\n",
       "    <tr>\n",
       "      <th>1707444</th>\n",
       "      <td>HOBBIES_1</td>\n",
       "      <td>HOBBIES_1_005</td>\n",
       "      <td>CA_1</td>\n",
       "    </tr>\n",
       "  </tbody>\n",
       "</table>\n",
       "</div>"
      ],
      "text/plain": [
       "           dept_id        item_id store_id\n",
       "1707440  HOBBIES_1  HOBBIES_1_001     CA_1\n",
       "1707441  HOBBIES_1  HOBBIES_1_002     CA_1\n",
       "1707442  HOBBIES_1  HOBBIES_1_003     CA_1\n",
       "1707443  HOBBIES_1  HOBBIES_1_004     CA_1\n",
       "1707444  HOBBIES_1  HOBBIES_1_005     CA_1"
      ]
     },
     "execution_count": 23,
     "metadata": {},
     "output_type": "execute_result"
    }
   ],
   "source": [
    "def expand_id(id):\n",
    "    return id.str.split(\"_\", expand=True).assign(\n",
    "        dept_id=lambda df: df.iloc[:,0] + \"_\" + df.iloc[:,1], \n",
    "        item_id=lambda df: df.iloc[:,0] + \"_\" + df.iloc[:,1] + \"_\" + df.iloc[:, 2],\n",
    "        store_id=lambda df: df.iloc[:,3] + \"_\" + df.iloc[:,4]).drop(np.arange(6), axis=1)\n",
    "\n",
    "# Example\n",
    "expand_id(sales[\"id\"].head())"
   ]
  },
  {
   "cell_type": "code",
   "execution_count": 24,
   "metadata": {},
   "outputs": [
    {
     "data": {
      "text/html": [
       "<div>\n",
       "<style scoped>\n",
       "    .dataframe tbody tr th:only-of-type {\n",
       "        vertical-align: middle;\n",
       "    }\n",
       "\n",
       "    .dataframe tbody tr th {\n",
       "        vertical-align: top;\n",
       "    }\n",
       "\n",
       "    .dataframe thead th {\n",
       "        text-align: right;\n",
       "    }\n",
       "</style>\n",
       "<table border=\"1\" class=\"dataframe\">\n",
       "  <thead>\n",
       "    <tr style=\"text-align: right;\">\n",
       "      <th></th>\n",
       "      <th>dept_id</th>\n",
       "      <th>item_id</th>\n",
       "      <th>store_id</th>\n",
       "      <th>id</th>\n",
       "    </tr>\n",
       "  </thead>\n",
       "  <tbody>\n",
       "    <tr>\n",
       "      <th>0</th>\n",
       "      <td>3</td>\n",
       "      <td>1437</td>\n",
       "      <td>0</td>\n",
       "      <td>HOBBIES_1_001_CA_1_validation</td>\n",
       "    </tr>\n",
       "    <tr>\n",
       "      <th>1</th>\n",
       "      <td>3</td>\n",
       "      <td>1438</td>\n",
       "      <td>0</td>\n",
       "      <td>HOBBIES_1_002_CA_1_validation</td>\n",
       "    </tr>\n",
       "    <tr>\n",
       "      <th>2</th>\n",
       "      <td>3</td>\n",
       "      <td>1439</td>\n",
       "      <td>0</td>\n",
       "      <td>HOBBIES_1_003_CA_1_validation</td>\n",
       "    </tr>\n",
       "    <tr>\n",
       "      <th>3</th>\n",
       "      <td>3</td>\n",
       "      <td>1440</td>\n",
       "      <td>0</td>\n",
       "      <td>HOBBIES_1_004_CA_1_validation</td>\n",
       "    </tr>\n",
       "    <tr>\n",
       "      <th>4</th>\n",
       "      <td>3</td>\n",
       "      <td>1441</td>\n",
       "      <td>0</td>\n",
       "      <td>HOBBIES_1_005_CA_1_validation</td>\n",
       "    </tr>\n",
       "  </tbody>\n",
       "</table>\n",
       "</div>"
      ],
      "text/plain": [
       "   dept_id  item_id  store_id                             id\n",
       "0        3     1437         0  HOBBIES_1_001_CA_1_validation\n",
       "1        3     1438         0  HOBBIES_1_002_CA_1_validation\n",
       "2        3     1439         0  HOBBIES_1_003_CA_1_validation\n",
       "3        3     1440         0  HOBBIES_1_004_CA_1_validation\n",
       "4        3     1441         0  HOBBIES_1_005_CA_1_validation"
      ]
     },
     "execution_count": 24,
     "metadata": {},
     "output_type": "execute_result"
    }
   ],
   "source": [
    "uid = pd.Series(sales[\"id\"].unique())\n",
    "id_lookup = expand_id(uid)\n",
    "id_lookup[\"id\"] = uid\n",
    "\n",
    "encode_item_id = OrdinalEncoder()\n",
    "encode_dept_id = OrdinalEncoder()\n",
    "encode_store_id = OrdinalEncoder()\n",
    "id_lookup[\"item_id\"] = encode_item_id.fit_transform(id_lookup[[\"item_id\"]]).astype(\"uint16\")\n",
    "id_lookup[\"dept_id\"] = encode_dept_id.fit_transform(id_lookup[[\"dept_id\"]]).astype(\"uint8\")\n",
    "id_lookup[\"store_id\"] = encode_store_id.fit_transform(id_lookup[[\"store_id\"]]).astype(\"uint8\")\n",
    "\n",
    "id_lookup.head()"
   ]
  },
  {
   "cell_type": "code",
   "execution_count": 25,
   "metadata": {},
   "outputs": [],
   "source": [
    "sales = sales.merge(id_lookup, on=\"id\", how=\"left\")\n",
    "del sales[\"id\"]"
   ]
  },
  {
   "cell_type": "code",
   "execution_count": 26,
   "metadata": {},
   "outputs": [
    {
     "data": {
      "text/html": [
       "<div>\n",
       "<style scoped>\n",
       "    .dataframe tbody tr th:only-of-type {\n",
       "        vertical-align: middle;\n",
       "    }\n",
       "\n",
       "    .dataframe tbody tr th {\n",
       "        vertical-align: top;\n",
       "    }\n",
       "\n",
       "    .dataframe thead th {\n",
       "        text-align: right;\n",
       "    }\n",
       "</style>\n",
       "<table border=\"1\" class=\"dataframe\">\n",
       "  <thead>\n",
       "    <tr style=\"text-align: right;\">\n",
       "      <th></th>\n",
       "      <th>d</th>\n",
       "      <th>demand</th>\n",
       "      <th>lag_t56</th>\n",
       "      <th>rolling_mean_t30</th>\n",
       "      <th>cummean</th>\n",
       "      <th>dept_id</th>\n",
       "      <th>item_id</th>\n",
       "      <th>store_id</th>\n",
       "    </tr>\n",
       "  </thead>\n",
       "  <tbody>\n",
       "    <tr>\n",
       "      <th>0</th>\n",
       "      <td>d_857</td>\n",
       "      <td>0.0</td>\n",
       "      <td>-0.634819</td>\n",
       "      <td>-0.823925</td>\n",
       "      <td>-0.396836</td>\n",
       "      <td>3</td>\n",
       "      <td>1437</td>\n",
       "      <td>0</td>\n",
       "    </tr>\n",
       "    <tr>\n",
       "      <th>1</th>\n",
       "      <td>d_857</td>\n",
       "      <td>1.0</td>\n",
       "      <td>-0.634819</td>\n",
       "      <td>-0.823925</td>\n",
       "      <td>-0.331548</td>\n",
       "      <td>3</td>\n",
       "      <td>1438</td>\n",
       "      <td>0</td>\n",
       "    </tr>\n",
       "    <tr>\n",
       "      <th>2</th>\n",
       "      <td>d_857</td>\n",
       "      <td>0.0</td>\n",
       "      <td>-0.634819</td>\n",
       "      <td>-0.823925</td>\n",
       "      <td>-0.396836</td>\n",
       "      <td>3</td>\n",
       "      <td>1439</td>\n",
       "      <td>0</td>\n",
       "    </tr>\n",
       "    <tr>\n",
       "      <th>3</th>\n",
       "      <td>d_857</td>\n",
       "      <td>0.0</td>\n",
       "      <td>-0.634819</td>\n",
       "      <td>-0.823925</td>\n",
       "      <td>0.161084</td>\n",
       "      <td>3</td>\n",
       "      <td>1440</td>\n",
       "      <td>0</td>\n",
       "    </tr>\n",
       "    <tr>\n",
       "      <th>4</th>\n",
       "      <td>d_857</td>\n",
       "      <td>0.0</td>\n",
       "      <td>-0.634819</td>\n",
       "      <td>-0.823925</td>\n",
       "      <td>-0.106005</td>\n",
       "      <td>3</td>\n",
       "      <td>1441</td>\n",
       "      <td>0</td>\n",
       "    </tr>\n",
       "  </tbody>\n",
       "</table>\n",
       "</div>"
      ],
      "text/plain": [
       "       d  demand   lag_t56  rolling_mean_t30   cummean  dept_id  item_id  \\\n",
       "0  d_857     0.0 -0.634819         -0.823925 -0.396836        3     1437   \n",
       "1  d_857     1.0 -0.634819         -0.823925 -0.331548        3     1438   \n",
       "2  d_857     0.0 -0.634819         -0.823925 -0.396836        3     1439   \n",
       "3  d_857     0.0 -0.634819         -0.823925  0.161084        3     1440   \n",
       "4  d_857     0.0 -0.634819         -0.823925 -0.106005        3     1441   \n",
       "\n",
       "   store_id  \n",
       "0         0  \n",
       "1         0  \n",
       "2         0  \n",
       "3         0  \n",
       "4         0  "
      ]
     },
     "execution_count": 26,
     "metadata": {},
     "output_type": "execute_result"
    }
   ],
   "source": [
    "sales.head()"
   ]
  },
  {
   "cell_type": "code",
   "execution_count": 27,
   "metadata": {},
   "outputs": [
    {
     "name": "stdout",
     "output_type": "stream",
     "text": [
      "<class 'pandas.core.frame.DataFrame'>\n",
      "Int64Index: 33935370 entries, 0 to 33935369\n",
      "Data columns (total 8 columns):\n",
      "d                   object\n",
      "demand              float64\n",
      "lag_t56             float32\n",
      "rolling_mean_t30    float32\n",
      "cummean             float32\n",
      "dept_id             uint8\n",
      "item_id             uint16\n",
      "store_id            uint8\n",
      "dtypes: float32(3), float64(1), object(1), uint16(1), uint8(2)\n",
      "memory usage: 1.3+ GB\n"
     ]
    }
   ],
   "source": [
    "sales.info()"
   ]
  },
  {
   "cell_type": "markdown",
   "metadata": {},
   "source": [
    "#### Notes for modeling\n",
    "\n",
    "**Features**\n",
    "\n",
    "- dept_id: Integer coding & embedding\n",
    "\n",
    "- item_id: Integer coding & embedding\n",
    "\n",
    "- store_id: Integer coding & embedding\n",
    "\n",
    "- lag & rolling mean\n",
    "\n",
    "**Reshape**:\n",
    "\n",
    "- Reshape days as \"d\" from wide to long -> \"demand\" will be response variable\n",
    "\n",
    "**Merges**:\n",
    "\n",
    "1. Join calendar features by \"d\" in format \"d_1\"\n",
    "\n",
    "2. Join selling prices by \"store_id\", \"item_id\" and (\"wm_yr_wk\" from calendar)\n",
    "\n",
    "Comment: Out-of-sample dates: \"d_1914\" - \"d_1969\""
   ]
  },
  {
   "cell_type": "markdown",
   "metadata": {},
   "source": [
    "### Selling prices\n",
    "\n",
    "Contains selling prices for each store_id, item_id_wm_yr_wk combination."
   ]
  },
  {
   "cell_type": "code",
   "execution_count": 28,
   "metadata": {},
   "outputs": [
    {
     "data": {
      "text/html": [
       "<div>\n",
       "<style scoped>\n",
       "    .dataframe tbody tr th:only-of-type {\n",
       "        vertical-align: middle;\n",
       "    }\n",
       "\n",
       "    .dataframe tbody tr th {\n",
       "        vertical-align: top;\n",
       "    }\n",
       "\n",
       "    .dataframe thead th {\n",
       "        text-align: right;\n",
       "    }\n",
       "</style>\n",
       "<table border=\"1\" class=\"dataframe\">\n",
       "  <thead>\n",
       "    <tr style=\"text-align: right;\">\n",
       "      <th></th>\n",
       "      <th>store_id</th>\n",
       "      <th>item_id</th>\n",
       "      <th>wm_yr_wk</th>\n",
       "      <th>sell_price</th>\n",
       "    </tr>\n",
       "  </thead>\n",
       "  <tbody>\n",
       "    <tr>\n",
       "      <th>0</th>\n",
       "      <td>CA_1</td>\n",
       "      <td>HOBBIES_1_001</td>\n",
       "      <td>11325</td>\n",
       "      <td>9.58</td>\n",
       "    </tr>\n",
       "    <tr>\n",
       "      <th>1</th>\n",
       "      <td>CA_1</td>\n",
       "      <td>HOBBIES_1_001</td>\n",
       "      <td>11326</td>\n",
       "      <td>9.58</td>\n",
       "    </tr>\n",
       "    <tr>\n",
       "      <th>2</th>\n",
       "      <td>CA_1</td>\n",
       "      <td>HOBBIES_1_001</td>\n",
       "      <td>11327</td>\n",
       "      <td>8.26</td>\n",
       "    </tr>\n",
       "    <tr>\n",
       "      <th>3</th>\n",
       "      <td>CA_1</td>\n",
       "      <td>HOBBIES_1_001</td>\n",
       "      <td>11328</td>\n",
       "      <td>8.26</td>\n",
       "    </tr>\n",
       "    <tr>\n",
       "      <th>4</th>\n",
       "      <td>CA_1</td>\n",
       "      <td>HOBBIES_1_001</td>\n",
       "      <td>11329</td>\n",
       "      <td>8.26</td>\n",
       "    </tr>\n",
       "  </tbody>\n",
       "</table>\n",
       "</div>"
      ],
      "text/plain": [
       "  store_id        item_id  wm_yr_wk  sell_price\n",
       "0     CA_1  HOBBIES_1_001     11325        9.58\n",
       "1     CA_1  HOBBIES_1_001     11326        9.58\n",
       "2     CA_1  HOBBIES_1_001     11327        8.26\n",
       "3     CA_1  HOBBIES_1_001     11328        8.26\n",
       "4     CA_1  HOBBIES_1_001     11329        8.26"
      ]
     },
     "execution_count": 28,
     "metadata": {},
     "output_type": "execute_result"
    }
   ],
   "source": [
    "selling_prices.head()"
   ]
  },
  {
   "cell_type": "markdown",
   "metadata": {},
   "source": [
    "Derive some time related features:"
   ]
  },
  {
   "cell_type": "code",
   "execution_count": 29,
   "metadata": {},
   "outputs": [],
   "source": [
    "# Add relative change\n",
    "def prep_selling_prices(df):\n",
    "    df = df.copy()\n",
    "    df[\"store_id\"] = encode_store_id.transform(df[[\"store_id\"]]).astype(\"uint8\")\n",
    "    df[\"item_id\"] = encode_item_id.transform(df[[\"item_id\"]]).astype(\"uint16\")\n",
    "    df[\"wm_yr_wk\"] = df[\"wm_yr_wk\"].astype(\"uint16\")\n",
    "    \n",
    "    df[\"sell_price_rel_diff\"] = df.groupby([\"store_id\", \"item_id\"])[\"sell_price\"].pct_change()\n",
    "    sell_price_cummin = df.groupby([\"store_id\", \"item_id\"])[\"sell_price\"].cummin()\n",
    "    sell_price_cummax = df.groupby([\"store_id\", \"item_id\"])[\"sell_price\"].cummax()\n",
    "    df[\"sell_price_cumrel\"] = (df[\"sell_price\"] - sell_price_cummin) / (sell_price_cummax - sell_price_cummin)\n",
    "    df.fillna({\"sell_price_rel_diff\": 0, \"sell_price_cumrel\": 1}, inplace=True)\n",
    "    floats = [\"sell_price_cumrel\", \"sell_price_rel_diff\", \"sell_price\"]\n",
    "    sc = StandardScaler()\n",
    "    df[floats] = sc.fit_transform(df[floats])\n",
    "    for v in floats:\n",
    "        df[v] = df[v].astype(\"float32\")\n",
    "    return df\n",
    "\n",
    "selling_prices = prep_selling_prices(selling_prices)"
   ]
  },
  {
   "cell_type": "code",
   "execution_count": 30,
   "metadata": {},
   "outputs": [
    {
     "data": {
      "text/html": [
       "<div>\n",
       "<style scoped>\n",
       "    .dataframe tbody tr th:only-of-type {\n",
       "        vertical-align: middle;\n",
       "    }\n",
       "\n",
       "    .dataframe tbody tr th {\n",
       "        vertical-align: top;\n",
       "    }\n",
       "\n",
       "    .dataframe thead th {\n",
       "        text-align: right;\n",
       "    }\n",
       "</style>\n",
       "<table border=\"1\" class=\"dataframe\">\n",
       "  <thead>\n",
       "    <tr style=\"text-align: right;\">\n",
       "      <th></th>\n",
       "      <th>store_id</th>\n",
       "      <th>item_id</th>\n",
       "      <th>wm_yr_wk</th>\n",
       "      <th>sell_price</th>\n",
       "      <th>sell_price_rel_diff</th>\n",
       "      <th>sell_price_cumrel</th>\n",
       "    </tr>\n",
       "  </thead>\n",
       "  <tbody>\n",
       "    <tr>\n",
       "      <th>0</th>\n",
       "      <td>0</td>\n",
       "      <td>1437</td>\n",
       "      <td>11325</td>\n",
       "      <td>1.516377</td>\n",
       "      <td>-0.002756</td>\n",
       "      <td>0.521493</td>\n",
       "    </tr>\n",
       "    <tr>\n",
       "      <th>1</th>\n",
       "      <td>0</td>\n",
       "      <td>1437</td>\n",
       "      <td>11326</td>\n",
       "      <td>1.516377</td>\n",
       "      <td>-0.002756</td>\n",
       "      <td>0.521493</td>\n",
       "    </tr>\n",
       "    <tr>\n",
       "      <th>2</th>\n",
       "      <td>0</td>\n",
       "      <td>1437</td>\n",
       "      <td>11327</td>\n",
       "      <td>1.129146</td>\n",
       "      <td>-0.309145</td>\n",
       "      <td>-2.195864</td>\n",
       "    </tr>\n",
       "    <tr>\n",
       "      <th>3</th>\n",
       "      <td>0</td>\n",
       "      <td>1437</td>\n",
       "      <td>11328</td>\n",
       "      <td>1.129146</td>\n",
       "      <td>-0.002756</td>\n",
       "      <td>-2.195864</td>\n",
       "    </tr>\n",
       "    <tr>\n",
       "      <th>4</th>\n",
       "      <td>0</td>\n",
       "      <td>1437</td>\n",
       "      <td>11329</td>\n",
       "      <td>1.129146</td>\n",
       "      <td>-0.002756</td>\n",
       "      <td>-2.195864</td>\n",
       "    </tr>\n",
       "  </tbody>\n",
       "</table>\n",
       "</div>"
      ],
      "text/plain": [
       "   store_id  item_id  wm_yr_wk  sell_price  sell_price_rel_diff  \\\n",
       "0         0     1437     11325    1.516377            -0.002756   \n",
       "1         0     1437     11326    1.516377            -0.002756   \n",
       "2         0     1437     11327    1.129146            -0.309145   \n",
       "3         0     1437     11328    1.129146            -0.002756   \n",
       "4         0     1437     11329    1.129146            -0.002756   \n",
       "\n",
       "   sell_price_cumrel  \n",
       "0           0.521493  \n",
       "1           0.521493  \n",
       "2          -2.195864  \n",
       "3          -2.195864  \n",
       "4          -2.195864  "
      ]
     },
     "execution_count": 30,
     "metadata": {},
     "output_type": "execute_result"
    }
   ],
   "source": [
    "selling_prices.head()"
   ]
  },
  {
   "cell_type": "markdown",
   "metadata": {},
   "source": [
    "#### Notes for modeling\n",
    "\n",
    "**Features**:\n",
    "\n",
    "- sell_price: numeric\n",
    "\n",
    "- relative change to last date (per store and item): numeric\n",
    "\n",
    "- price position between cummin and cummax (per store and item): numeric\n",
    "\n",
    "**Reshape**: No\n",
    "\n",
    "**Merge key(s)**: to sales data by store_id, item_id, wm_yr_wk (through calendar data)"
   ]
  },
  {
   "cell_type": "markdown",
   "metadata": {},
   "source": [
    "### Combine all"
   ]
  },
  {
   "cell_type": "code",
   "execution_count": 31,
   "metadata": {},
   "outputs": [],
   "source": [
    "gc.collect()\n",
    "sales = sales.merge(calendar, how=\"left\", on=\"d\")\n",
    "del sales[\"d\"]"
   ]
  },
  {
   "cell_type": "code",
   "execution_count": 32,
   "metadata": {},
   "outputs": [],
   "source": [
    "gc.collect()\n",
    "sales = sales.merge(selling_prices, how=\"left\", on=[\"wm_yr_wk\", \"store_id\", \"item_id\"])\n",
    "del sales[\"wm_yr_wk\"]"
   ]
  },
  {
   "cell_type": "code",
   "execution_count": 33,
   "metadata": {},
   "outputs": [],
   "source": [
    "sales.fillna({\"sell_price\": 0, \"sell_price_rel_diff\": 0, \"sell_price_cumrel\": 0}, inplace=True)"
   ]
  },
  {
   "cell_type": "code",
   "execution_count": 34,
   "metadata": {},
   "outputs": [
    {
     "data": {
      "text/plain": [
       "0"
      ]
     },
     "execution_count": 34,
     "metadata": {},
     "output_type": "execute_result"
    }
   ],
   "source": [
    "gc.collect()"
   ]
  },
  {
   "cell_type": "markdown",
   "metadata": {},
   "source": [
    "## Modelling\n",
    "\n",
    "We will now use Tensorflow & Keras to model sales demand as a function of the prepared input. Key pieces are the categorical predictors prepared above. They will be fed through embedding layers and combined to dense numeric features.\n",
    "\n",
    "For simplicity, we use MSE as evaluation criterion. This will most certainly change in future commits."
   ]
  },
  {
   "cell_type": "markdown",
   "metadata": {},
   "source": [
    "### Create input dicts for multi-input"
   ]
  },
  {
   "cell_type": "code",
   "execution_count": 35,
   "metadata": {},
   "outputs": [],
   "source": [
    "training_flag = pd.notna(sales.demand)"
   ]
  },
  {
   "cell_type": "code",
   "execution_count": 36,
   "metadata": {},
   "outputs": [],
   "source": [
    "def make_Xy(df, ind=None, return_y = True):\n",
    "    if ind is not None:\n",
    "        df = df[ind]\n",
    "    X = {\"dense1\": df[[\"lag_t56\", \"rolling_mean_t30\", \"cummean\",\n",
    "                       \"snap_CA\", \"snap_TX\", \"snap_WI\",\n",
    "                       \"sell_price\", \"sell_price_rel_diff\", \n",
    "                       \"sell_price_cumrel\"]].to_numpy(dtype=\"float32\"),\n",
    "         \"item_id\": df[[\"item_id\"]].to_numpy(dtype=\"uint16\")}\n",
    "    for i, v in enumerate([\"wday\", \"month\", \"year\", \"event_name_1\", \n",
    "                           \"event_type_1\", \"dept_id\", \"store_id\"]):\n",
    "        X[v] = df[[v]].to_numpy(dtype=\"uint8\")\n",
    "    if return_y:\n",
    "        return X, df.demand.to_numpy(dtype=\"float32\")\n",
    "    else:\n",
    "        return X"
   ]
  },
  {
   "cell_type": "code",
   "execution_count": 37,
   "metadata": {},
   "outputs": [
    {
     "data": {
      "text/plain": [
       "(32227930,)"
      ]
     },
     "execution_count": 37,
     "metadata": {},
     "output_type": "execute_result"
    }
   ],
   "source": [
    "X_train, y_train = make_Xy(sales, training_flag) # make_Xy(sales[0:1000000])\n",
    "y_train.shape"
   ]
  },
  {
   "cell_type": "code",
   "execution_count": 38,
   "metadata": {},
   "outputs": [],
   "source": [
    "X_test = make_Xy(sales, ~training_flag, return_y=False)"
   ]
  },
  {
   "cell_type": "code",
   "execution_count": 39,
   "metadata": {},
   "outputs": [
    {
     "data": {
      "text/plain": [
       "0"
      ]
     },
     "execution_count": 39,
     "metadata": {},
     "output_type": "execute_result"
    }
   ],
   "source": [
    "del sales\n",
    "gc.collect()"
   ]
  },
  {
   "cell_type": "markdown",
   "metadata": {},
   "source": [
    "### The model"
   ]
  },
  {
   "cell_type": "code",
   "execution_count": 40,
   "metadata": {},
   "outputs": [],
   "source": [
    "import tensorflow as tf\n",
    "\n",
    "from tensorflow import keras\n",
    "from tensorflow.keras import layers\n",
    "\n",
    "tf.keras.backend.clear_session()  # For easy reset of notebook state.\n",
    "\n",
    "from tensorflow.keras.layers import Dense, Input, Embedding, Dropout, concatenate, Flatten\n",
    "from tensorflow.keras.models import Model\n",
    "from tensorflow.keras import regularizers"
   ]
  },
  {
   "cell_type": "code",
   "execution_count": 41,
   "metadata": {},
   "outputs": [],
   "source": [
    "# Dense part\n",
    "dense_input = Input(shape=(9, ), name='dense1')\n",
    "dense_branch = Dense(100, activation=\"relu\")(dense_input)\n",
    "#dense_branch = Dense(100, activation=\"relu\")(dense_branch)\n",
    "\n",
    "# Embedded input\n",
    "wday_input = Input(shape=(1,), name='wday')\n",
    "month_input = Input(shape=(1,), name='month')\n",
    "year_input = Input(shape=(1,), name='year')\n",
    "event_name_1_input = Input(shape=(1,), name='event_name_1')\n",
    "event_type_1_input = Input(shape=(1,), name='event_type_1')\n",
    "event_name_2_input = Input(shape=(1,), name='event_name_2')\n",
    "event_type_2_input = Input(shape=(1,), name='event_type_2')\n",
    "item_id_input = Input(shape=(1,), name='item_id')\n",
    "dept_id_input = Input(shape=(1,), name='dept_id')\n",
    "store_id_input = Input(shape=(1,), name='store_id')\n",
    "\n",
    "# Embedding layers\n",
    "wday_emb = Flatten()(Embedding(7, 2)(wday_input))\n",
    "month_emb = Flatten()(Embedding(12, 2)(month_input))\n",
    "year_emb = Flatten()(Embedding(6, 2)(year_input))\n",
    "event_name_1_emb = Flatten()(Embedding(31, 5)(event_name_1_input))\n",
    "event_type_1_emb = Flatten()(Embedding(5, 2)(event_type_1_input))\n",
    "event_name_2_emb = Flatten()(Embedding(5, 2)(event_name_2_input))\n",
    "event_type_2_emb = Flatten()(Embedding(5, 2)(event_type_2_input))\n",
    "item_id_emb = Flatten()(Embedding(len(encode_item_id.categories_[0]), 30)(item_id_input))\n",
    "item_id_emb = Dropout(0.3)(item_id_emb)\n",
    "dept_id_emb = Flatten()(Embedding(7, 2)(dept_id_input))\n",
    "store_id_emb = Flatten()(Embedding(10, 2)(store_id_input))\n",
    "\n",
    "x = concatenate([dense_branch, wday_emb, month_emb, year_emb, event_name_1_emb,\n",
    "                event_type_1_emb, item_id_emb, dept_id_emb, store_id_emb])\n",
    "x = Dense(150, activation=\"relu\")(x)\n",
    "x = Dropout(0.1)(x)\n",
    "x = Dense(20, activation=\"relu\")(x)\n",
    "prediction = Dense(1, activation=\"linear\", name='output')(x)\n",
    "\n",
    "model = Model(inputs={\"dense1\": dense_input, \"wday\": wday_input, \"month\": month_input,\n",
    "                      \"year\": year_input, \"event_name_1\": event_name_1_input, \"event_type_1\": event_type_1_input,\n",
    "                      \"item_id\": item_id_input, \"dept_id\": dept_id_input, \"store_id\": store_id_input},\n",
    "              outputs=prediction)"
   ]
  },
  {
   "cell_type": "code",
   "execution_count": 42,
   "metadata": {},
   "outputs": [
    {
     "name": "stdout",
     "output_type": "stream",
     "text": [
      "Model: \"model\"\n",
      "__________________________________________________________________________________________________\n",
      "Layer (type)                    Output Shape         Param #     Connected to                     \n",
      "==================================================================================================\n",
      "item_id (InputLayer)            [(None, 1)]          0                                            \n",
      "__________________________________________________________________________________________________\n",
      "wday (InputLayer)               [(None, 1)]          0                                            \n",
      "__________________________________________________________________________________________________\n",
      "month (InputLayer)              [(None, 1)]          0                                            \n",
      "__________________________________________________________________________________________________\n",
      "year (InputLayer)               [(None, 1)]          0                                            \n",
      "__________________________________________________________________________________________________\n",
      "event_name_1 (InputLayer)       [(None, 1)]          0                                            \n",
      "__________________________________________________________________________________________________\n",
      "event_type_1 (InputLayer)       [(None, 1)]          0                                            \n",
      "__________________________________________________________________________________________________\n",
      "embedding_7 (Embedding)         (None, 1, 30)        91470       item_id[0][0]                    \n",
      "__________________________________________________________________________________________________\n",
      "dept_id (InputLayer)            [(None, 1)]          0                                            \n",
      "__________________________________________________________________________________________________\n",
      "store_id (InputLayer)           [(None, 1)]          0                                            \n",
      "__________________________________________________________________________________________________\n",
      "dense1 (InputLayer)             [(None, 9)]          0                                            \n",
      "__________________________________________________________________________________________________\n",
      "embedding (Embedding)           (None, 1, 2)         14          wday[0][0]                       \n",
      "__________________________________________________________________________________________________\n",
      "embedding_1 (Embedding)         (None, 1, 2)         24          month[0][0]                      \n",
      "__________________________________________________________________________________________________\n",
      "embedding_2 (Embedding)         (None, 1, 2)         12          year[0][0]                       \n",
      "__________________________________________________________________________________________________\n",
      "embedding_3 (Embedding)         (None, 1, 5)         155         event_name_1[0][0]               \n",
      "__________________________________________________________________________________________________\n",
      "embedding_4 (Embedding)         (None, 1, 2)         10          event_type_1[0][0]               \n",
      "__________________________________________________________________________________________________\n",
      "flatten_7 (Flatten)             (None, 30)           0           embedding_7[0][0]                \n",
      "__________________________________________________________________________________________________\n",
      "embedding_8 (Embedding)         (None, 1, 2)         14          dept_id[0][0]                    \n",
      "__________________________________________________________________________________________________\n",
      "embedding_9 (Embedding)         (None, 1, 2)         20          store_id[0][0]                   \n",
      "__________________________________________________________________________________________________\n",
      "dense (Dense)                   (None, 100)          1000        dense1[0][0]                     \n",
      "__________________________________________________________________________________________________\n",
      "flatten (Flatten)               (None, 2)            0           embedding[0][0]                  \n",
      "__________________________________________________________________________________________________\n",
      "flatten_1 (Flatten)             (None, 2)            0           embedding_1[0][0]                \n",
      "__________________________________________________________________________________________________\n",
      "flatten_2 (Flatten)             (None, 2)            0           embedding_2[0][0]                \n",
      "__________________________________________________________________________________________________\n",
      "flatten_3 (Flatten)             (None, 5)            0           embedding_3[0][0]                \n",
      "__________________________________________________________________________________________________\n",
      "flatten_4 (Flatten)             (None, 2)            0           embedding_4[0][0]                \n",
      "__________________________________________________________________________________________________\n",
      "dropout (Dropout)               (None, 30)           0           flatten_7[0][0]                  \n",
      "__________________________________________________________________________________________________\n",
      "flatten_8 (Flatten)             (None, 2)            0           embedding_8[0][0]                \n",
      "__________________________________________________________________________________________________\n",
      "flatten_9 (Flatten)             (None, 2)            0           embedding_9[0][0]                \n",
      "__________________________________________________________________________________________________\n",
      "concatenate (Concatenate)       (None, 147)          0           dense[0][0]                      \n",
      "                                                                 flatten[0][0]                    \n",
      "                                                                 flatten_1[0][0]                  \n",
      "                                                                 flatten_2[0][0]                  \n",
      "                                                                 flatten_3[0][0]                  \n",
      "                                                                 flatten_4[0][0]                  \n",
      "                                                                 dropout[0][0]                    \n",
      "                                                                 flatten_8[0][0]                  \n",
      "                                                                 flatten_9[0][0]                  \n",
      "__________________________________________________________________________________________________\n",
      "dense_1 (Dense)                 (None, 150)          22200       concatenate[0][0]                \n",
      "__________________________________________________________________________________________________\n",
      "dropout_1 (Dropout)             (None, 150)          0           dense_1[0][0]                    \n",
      "__________________________________________________________________________________________________\n",
      "dense_2 (Dense)                 (None, 20)           3020        dropout_1[0][0]                  \n",
      "__________________________________________________________________________________________________\n",
      "output (Dense)                  (None, 1)            21          dense_2[0][0]                    \n",
      "==================================================================================================\n",
      "Total params: 117,960\n",
      "Trainable params: 117,960\n",
      "Non-trainable params: 0\n",
      "__________________________________________________________________________________________________\n"
     ]
    },
    {
     "data": {
      "image/png": "[encoded data removed]",
      "text/plain": [
       "<IPython.core.display.Image object>"
      ]
     },
     "execution_count": 42,
     "metadata": {},
     "output_type": "execute_result"
    }
   ],
   "source": [
    "model.summary()\n",
    "\n",
    "keras.utils.plot_model(model, 'model.png', show_shapes=True)"
   ]
  },
  {
   "cell_type": "code",
   "execution_count": 43,
   "metadata": {},
   "outputs": [
    {
     "name": "stdout",
     "output_type": "stream",
     "text": [
      "Train on 29005137 samples, validate on 3222793 samples\n",
      "Epoch 1/3\n",
      "29005137/29005137 [==============================] - 100s 3us/sample - loss: 6.3064 - mse: 6.3064 - val_loss: 5.8413 - val_mse: 5.8413\n",
      "Epoch 2/3\n",
      "29005137/29005137 [==============================] - 93s 3us/sample - loss: 5.9682 - mse: 5.9682 - val_loss: 5.6987 - val_mse: 5.6987\n",
      "Epoch 3/3\n",
      "29005137/29005137 [==============================] - 94s 3us/sample - loss: 5.8116 - mse: 5.8116 - val_loss: 5.7041 - val_mse: 5.7041\n"
     ]
    }
   ],
   "source": [
    "model.compile(loss=keras.losses.mean_squared_error,\n",
    "              optimizer=keras.optimizers.RMSprop(),\n",
    "              metrics=['mse'])\n",
    "\n",
    "history = model.fit(X_train, \n",
    "                    y_train,\n",
    "                    batch_size=4096,\n",
    "                    epochs=3,\n",
    "                    validation_split=0.1)"
   ]
  },
  {
   "cell_type": "markdown",
   "metadata": {},
   "source": [
    "#### Plot the evaluation metrics over epochs"
   ]
  },
  {
   "cell_type": "code",
   "execution_count": 44,
   "metadata": {},
   "outputs": [
    {
     "data": {
      "image/png": "[encoded data removed]",
      "text/plain": [
       "<Figure size 432x288 with 1 Axes>"
      ]
     },
     "metadata": {
      "needs_background": "light"
     },
     "output_type": "display_data"
    }
   ],
   "source": [
    "plt.plot(history.history['loss'])\n",
    "plt.plot(history.history['val_loss'])\n",
    "plt.title('model loss')\n",
    "plt.ylabel('loss')\n",
    "plt.xlabel('epoch')\n",
    "plt.legend(['train', 'valid'], loc='upper left')\n",
    "plt.show()"
   ]
  },
  {
   "cell_type": "code",
   "execution_count": 45,
   "metadata": {},
   "outputs": [],
   "source": [
    "model.save('model.h5')"
   ]
  },
  {
   "cell_type": "markdown",
   "metadata": {},
   "source": [
    "## Submission"
   ]
  },
  {
   "cell_type": "code",
   "execution_count": 46,
   "metadata": {},
   "outputs": [],
   "source": [
    "pred = model.predict(X_test, batch_size=4096)"
   ]
  },
  {
   "cell_type": "code",
   "execution_count": 47,
   "metadata": {},
   "outputs": [
    {
     "data": {
      "text/plain": [
       "(1707440, 1)"
      ]
     },
     "execution_count": 47,
     "metadata": {},
     "output_type": "execute_result"
    }
   ],
   "source": [
    "pred.shape"
   ]
  },
  {
   "cell_type": "code",
   "execution_count": 48,
   "metadata": {},
   "outputs": [
    {
     "data": {
      "text/plain": [
       "(1707440, 3)"
      ]
     },
     "execution_count": 48,
     "metadata": {},
     "output_type": "execute_result"
    }
   ],
   "source": [
    "submission.shape"
   ]
  },
  {
   "cell_type": "code",
   "execution_count": 49,
   "metadata": {},
   "outputs": [
    {
     "data": {
      "text/html": [
       "<div>\n",
       "<style scoped>\n",
       "    .dataframe tbody tr th:only-of-type {\n",
       "        vertical-align: middle;\n",
       "    }\n",
       "\n",
       "    .dataframe tbody tr th {\n",
       "        vertical-align: top;\n",
       "    }\n",
       "\n",
       "    .dataframe thead th {\n",
       "        text-align: right;\n",
       "    }\n",
       "</style>\n",
       "<table border=\"1\" class=\"dataframe\">\n",
       "  <thead>\n",
       "    <tr style=\"text-align: right;\">\n",
       "      <th></th>\n",
       "      <th>id</th>\n",
       "      <th>d</th>\n",
       "      <th>demand</th>\n",
       "    </tr>\n",
       "  </thead>\n",
       "  <tbody>\n",
       "    <tr>\n",
       "      <th>1707435</th>\n",
       "      <td>FOODS_3_823_WI_3_evaluation</td>\n",
       "      <td>d_1969</td>\n",
       "      <td>NaN</td>\n",
       "    </tr>\n",
       "    <tr>\n",
       "      <th>1707436</th>\n",
       "      <td>FOODS_3_824_WI_3_evaluation</td>\n",
       "      <td>d_1969</td>\n",
       "      <td>NaN</td>\n",
       "    </tr>\n",
       "    <tr>\n",
       "      <th>1707437</th>\n",
       "      <td>FOODS_3_825_WI_3_evaluation</td>\n",
       "      <td>d_1969</td>\n",
       "      <td>NaN</td>\n",
       "    </tr>\n",
       "    <tr>\n",
       "      <th>1707438</th>\n",
       "      <td>FOODS_3_826_WI_3_evaluation</td>\n",
       "      <td>d_1969</td>\n",
       "      <td>NaN</td>\n",
       "    </tr>\n",
       "    <tr>\n",
       "      <th>1707439</th>\n",
       "      <td>FOODS_3_827_WI_3_evaluation</td>\n",
       "      <td>d_1969</td>\n",
       "      <td>NaN</td>\n",
       "    </tr>\n",
       "  </tbody>\n",
       "</table>\n",
       "</div>"
      ],
      "text/plain": [
       "                                  id       d  demand\n",
       "1707435  FOODS_3_823_WI_3_evaluation  d_1969     NaN\n",
       "1707436  FOODS_3_824_WI_3_evaluation  d_1969     NaN\n",
       "1707437  FOODS_3_825_WI_3_evaluation  d_1969     NaN\n",
       "1707438  FOODS_3_826_WI_3_evaluation  d_1969     NaN\n",
       "1707439  FOODS_3_827_WI_3_evaluation  d_1969     NaN"
      ]
     },
     "execution_count": 49,
     "metadata": {},
     "output_type": "execute_result"
    }
   ],
   "source": [
    "submission.tail()"
   ]
  },
  {
   "cell_type": "code",
   "execution_count": 50,
   "metadata": {},
   "outputs": [
    {
     "data": {
      "text/html": [
       "<div>\n",
       "<style scoped>\n",
       "    .dataframe tbody tr th:only-of-type {\n",
       "        vertical-align: middle;\n",
       "    }\n",
       "\n",
       "    .dataframe tbody tr th {\n",
       "        vertical-align: top;\n",
       "    }\n",
       "\n",
       "    .dataframe thead th {\n",
       "        text-align: right;\n",
       "    }\n",
       "</style>\n",
       "<table border=\"1\" class=\"dataframe\">\n",
       "  <thead>\n",
       "    <tr style=\"text-align: right;\">\n",
       "      <th></th>\n",
       "      <th>id</th>\n",
       "      <th>d</th>\n",
       "      <th>demand</th>\n",
       "    </tr>\n",
       "  </thead>\n",
       "  <tbody>\n",
       "    <tr>\n",
       "      <th>0</th>\n",
       "      <td>HOBBIES_1_001_CA_1_validation</td>\n",
       "      <td>F1</td>\n",
       "      <td>0.847336</td>\n",
       "    </tr>\n",
       "    <tr>\n",
       "      <th>1</th>\n",
       "      <td>HOBBIES_1_002_CA_1_validation</td>\n",
       "      <td>F1</td>\n",
       "      <td>0.357610</td>\n",
       "    </tr>\n",
       "    <tr>\n",
       "      <th>2</th>\n",
       "      <td>HOBBIES_1_003_CA_1_validation</td>\n",
       "      <td>F1</td>\n",
       "      <td>0.381776</td>\n",
       "    </tr>\n",
       "    <tr>\n",
       "      <th>3</th>\n",
       "      <td>HOBBIES_1_004_CA_1_validation</td>\n",
       "      <td>F1</td>\n",
       "      <td>1.454668</td>\n",
       "    </tr>\n",
       "    <tr>\n",
       "      <th>4</th>\n",
       "      <td>HOBBIES_1_005_CA_1_validation</td>\n",
       "      <td>F1</td>\n",
       "      <td>0.988972</td>\n",
       "    </tr>\n",
       "  </tbody>\n",
       "</table>\n",
       "</div>"
      ],
      "text/plain": [
       "                              id   d    demand\n",
       "0  HOBBIES_1_001_CA_1_validation  F1  0.847336\n",
       "1  HOBBIES_1_002_CA_1_validation  F1  0.357610\n",
       "2  HOBBIES_1_003_CA_1_validation  F1  0.381776\n",
       "3  HOBBIES_1_004_CA_1_validation  F1  1.454668\n",
       "4  HOBBIES_1_005_CA_1_validation  F1  0.988972"
      ]
     },
     "execution_count": 50,
     "metadata": {},
     "output_type": "execute_result"
    }
   ],
   "source": [
    "submission = submission.assign(\n",
    "    demand = np.clip(pred, 0, None),\n",
    "    d = lambda df: map_d2f(df.d, df.id))\n",
    "submission.head()"
   ]
  },
  {
   "cell_type": "code",
   "execution_count": 51,
   "metadata": {},
   "outputs": [],
   "source": [
    "# Right column order\n",
    "col_order = [\"id\"] + [\"F\" + str(i + 1) for i in range(28)]\n",
    "submission = submission.pivot(index=\"id\", columns=\"d\", values=\"demand\").reset_index()[col_order]\n",
    "\n",
    "# Right row order\n",
    "submission = sample_submission[[\"id\"]].merge(submission, how=\"left\", on=\"id\")"
   ]
  },
  {
   "cell_type": "code",
   "execution_count": 52,
   "metadata": {},
   "outputs": [
    {
     "data": {
      "text/html": [
       "<div>\n",
       "<style scoped>\n",
       "    .dataframe tbody tr th:only-of-type {\n",
       "        vertical-align: middle;\n",
       "    }\n",
       "\n",
       "    .dataframe tbody tr th {\n",
       "        vertical-align: top;\n",
       "    }\n",
       "\n",
       "    .dataframe thead th {\n",
       "        text-align: right;\n",
       "    }\n",
       "</style>\n",
       "<table border=\"1\" class=\"dataframe\">\n",
       "  <thead>\n",
       "    <tr style=\"text-align: right;\">\n",
       "      <th></th>\n",
       "      <th>id</th>\n",
       "      <th>F1</th>\n",
       "      <th>F2</th>\n",
       "      <th>F3</th>\n",
       "      <th>F4</th>\n",
       "      <th>F5</th>\n",
       "      <th>F6</th>\n",
       "      <th>F7</th>\n",
       "      <th>F8</th>\n",
       "      <th>F9</th>\n",
       "      <th>...</th>\n",
       "      <th>F19</th>\n",
       "      <th>F20</th>\n",
       "      <th>F21</th>\n",
       "      <th>F22</th>\n",
       "      <th>F23</th>\n",
       "      <th>F24</th>\n",
       "      <th>F25</th>\n",
       "      <th>F26</th>\n",
       "      <th>F27</th>\n",
       "      <th>F28</th>\n",
       "    </tr>\n",
       "  </thead>\n",
       "  <tbody>\n",
       "    <tr>\n",
       "      <th>0</th>\n",
       "      <td>HOBBIES_1_001_CA_1_validation</td>\n",
       "      <td>0.847336</td>\n",
       "      <td>0.748217</td>\n",
       "      <td>0.747773</td>\n",
       "      <td>0.770394</td>\n",
       "      <td>0.907941</td>\n",
       "      <td>0.939398</td>\n",
       "      <td>0.950653</td>\n",
       "      <td>0.689453</td>\n",
       "      <td>0.807428</td>\n",
       "      <td>...</td>\n",
       "      <td>1.064007</td>\n",
       "      <td>1.229876</td>\n",
       "      <td>1.216835</td>\n",
       "      <td>0.833451</td>\n",
       "      <td>0.749901</td>\n",
       "      <td>0.739769</td>\n",
       "      <td>0.745419</td>\n",
       "      <td>0.908792</td>\n",
       "      <td>1.171279</td>\n",
       "      <td>1.079349</td>\n",
       "    </tr>\n",
       "    <tr>\n",
       "      <th>1</th>\n",
       "      <td>HOBBIES_1_002_CA_1_validation</td>\n",
       "      <td>0.357610</td>\n",
       "      <td>0.330867</td>\n",
       "      <td>0.337055</td>\n",
       "      <td>0.385401</td>\n",
       "      <td>0.381446</td>\n",
       "      <td>0.407414</td>\n",
       "      <td>0.462637</td>\n",
       "      <td>0.407427</td>\n",
       "      <td>0.401066</td>\n",
       "      <td>...</td>\n",
       "      <td>0.405219</td>\n",
       "      <td>0.411174</td>\n",
       "      <td>0.405286</td>\n",
       "      <td>0.355804</td>\n",
       "      <td>0.338590</td>\n",
       "      <td>0.335249</td>\n",
       "      <td>0.342667</td>\n",
       "      <td>0.370161</td>\n",
       "      <td>0.400636</td>\n",
       "      <td>0.385715</td>\n",
       "    </tr>\n",
       "    <tr>\n",
       "      <th>2</th>\n",
       "      <td>HOBBIES_1_003_CA_1_validation</td>\n",
       "      <td>0.381776</td>\n",
       "      <td>0.365093</td>\n",
       "      <td>0.361831</td>\n",
       "      <td>0.452285</td>\n",
       "      <td>0.542887</td>\n",
       "      <td>0.485546</td>\n",
       "      <td>0.502270</td>\n",
       "      <td>0.436046</td>\n",
       "      <td>0.414526</td>\n",
       "      <td>...</td>\n",
       "      <td>0.411858</td>\n",
       "      <td>0.431013</td>\n",
       "      <td>0.402590</td>\n",
       "      <td>0.357710</td>\n",
       "      <td>0.375771</td>\n",
       "      <td>0.429028</td>\n",
       "      <td>0.450044</td>\n",
       "      <td>0.486595</td>\n",
       "      <td>0.562319</td>\n",
       "      <td>0.612096</td>\n",
       "    </tr>\n",
       "    <tr>\n",
       "      <th>3</th>\n",
       "      <td>HOBBIES_1_004_CA_1_validation</td>\n",
       "      <td>1.454668</td>\n",
       "      <td>1.274514</td>\n",
       "      <td>1.247142</td>\n",
       "      <td>1.664778</td>\n",
       "      <td>1.648319</td>\n",
       "      <td>1.307862</td>\n",
       "      <td>1.644146</td>\n",
       "      <td>1.574306</td>\n",
       "      <td>1.411124</td>\n",
       "      <td>...</td>\n",
       "      <td>1.777993</td>\n",
       "      <td>1.397659</td>\n",
       "      <td>2.379503</td>\n",
       "      <td>1.704281</td>\n",
       "      <td>1.651905</td>\n",
       "      <td>1.547178</td>\n",
       "      <td>1.694915</td>\n",
       "      <td>1.708566</td>\n",
       "      <td>2.049847</td>\n",
       "      <td>2.458474</td>\n",
       "    </tr>\n",
       "    <tr>\n",
       "      <th>4</th>\n",
       "      <td>HOBBIES_1_005_CA_1_validation</td>\n",
       "      <td>0.988972</td>\n",
       "      <td>0.976811</td>\n",
       "      <td>0.905296</td>\n",
       "      <td>0.913987</td>\n",
       "      <td>1.086625</td>\n",
       "      <td>1.128691</td>\n",
       "      <td>1.259224</td>\n",
       "      <td>1.152157</td>\n",
       "      <td>1.094864</td>\n",
       "      <td>...</td>\n",
       "      <td>1.276878</td>\n",
       "      <td>1.568531</td>\n",
       "      <td>1.619322</td>\n",
       "      <td>1.049411</td>\n",
       "      <td>0.993987</td>\n",
       "      <td>1.000323</td>\n",
       "      <td>1.007020</td>\n",
       "      <td>1.055015</td>\n",
       "      <td>1.402471</td>\n",
       "      <td>1.445481</td>\n",
       "    </tr>\n",
       "  </tbody>\n",
       "</table>\n",
       "<p>5 rows × 29 columns</p>\n",
       "</div>"
      ],
      "text/plain": [
       "                              id        F1        F2        F3        F4  \\\n",
       "0  HOBBIES_1_001_CA_1_validation  0.847336  0.748217  0.747773  0.770394   \n",
       "1  HOBBIES_1_002_CA_1_validation  0.357610  0.330867  0.337055  0.385401   \n",
       "2  HOBBIES_1_003_CA_1_validation  0.381776  0.365093  0.361831  0.452285   \n",
       "3  HOBBIES_1_004_CA_1_validation  1.454668  1.274514  1.247142  1.664778   \n",
       "4  HOBBIES_1_005_CA_1_validation  0.988972  0.976811  0.905296  0.913987   \n",
       "\n",
       "         F5        F6        F7        F8        F9  ...       F19       F20  \\\n",
       "0  0.907941  0.939398  0.950653  0.689453  0.807428  ...  1.064007  1.229876   \n",
       "1  0.381446  0.407414  0.462637  0.407427  0.401066  ...  0.405219  0.411174   \n",
       "2  0.542887  0.485546  0.502270  0.436046  0.414526  ...  0.411858  0.431013   \n",
       "3  1.648319  1.307862  1.644146  1.574306  1.411124  ...  1.777993  1.397659   \n",
       "4  1.086625  1.128691  1.259224  1.152157  1.094864  ...  1.276878  1.568531   \n",
       "\n",
       "        F21       F22       F23       F24       F25       F26       F27  \\\n",
       "0  1.216835  0.833451  0.749901  0.739769  0.745419  0.908792  1.171279   \n",
       "1  0.405286  0.355804  0.338590  0.335249  0.342667  0.370161  0.400636   \n",
       "2  0.402590  0.357710  0.375771  0.429028  0.450044  0.486595  0.562319   \n",
       "3  2.379503  1.704281  1.651905  1.547178  1.694915  1.708566  2.049847   \n",
       "4  1.619322  1.049411  0.993987  1.000323  1.007020  1.055015  1.402471   \n",
       "\n",
       "        F28  \n",
       "0  1.079349  \n",
       "1  0.385715  \n",
       "2  0.612096  \n",
       "3  2.458474  \n",
       "4  1.445481  \n",
       "\n",
       "[5 rows x 29 columns]"
      ]
     },
     "execution_count": 52,
     "metadata": {},
     "output_type": "execute_result"
    }
   ],
   "source": [
    "submission.head()"
   ]
  },
  {
   "cell_type": "code",
   "execution_count": 53,
   "metadata": {},
   "outputs": [],
   "source": [
    "submission.to_csv(\"submission.csv\", index=False)"
   ]
  }
 ],
 "metadata": {
  "kernelspec": {
   "display_name": "Python 3",
   "language": "python",
   "name": "python3"
  },
  "language_info": {
   "codemirror_mode": {
    "name": "ipython",
    "version": 3
   },
   "file_extension": ".py",
   "mimetype": "text/x-python",
   "name": "python",
   "nbconvert_exporter": "python",
   "pygments_lexer": "ipython3",
   "version": "3.6.6"
  }
 },
 "nbformat": 4,
 "nbformat_minor": 4
}
